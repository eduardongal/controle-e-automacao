{
  "nbformat": 4,
  "nbformat_minor": 0,
  "metadata": {
    "colab": {
      "provenance": []
    },
    "kernelspec": {
      "name": "python3",
      "display_name": "Python 3"
    },
    "language_info": {
      "name": "python"
    }
  },
  "cells": [
    {
      "cell_type": "markdown",
      "source": [
        "## Capítulo 7: Método do Lugar das Raízes"
      ],
      "metadata": {
        "id": "qE0kv03uYDFu"
      }
    },
    {
      "cell_type": "markdown",
      "source": [
        "###7.1 Introdução\n",
        "\n",
        "A estabilidade relativa e o desempenho transitório de um sistema de controle em malha fechada estão diretamente relacionados à localização das raízes da equação característica no plano S. Frequentemente, é necessário ajustar um ou mais parâmetros do sistema para obter localizações adequadas das raízes. Portanto, é útil determinar como as raízes da equação característica de um dado sistema migram pelo plano s à medida que os parâmetros são variados; ou seja, é útil determinar o lugar das raízes no plano s conforme um parâmetro é variado.\n",
        "\n",
        "O método do lugar das raízes, introduzido por Evans em 1948, é uma técnica gráfica para esboçar o lugar das raízes no plano s conforme um parâmetro é variado. Ele fornece ao engenheiro uma medida da sensibilidade das raízes do sistema à variação do parâmetro considerado. A técnica do lugar das raízes pode ser usada com vantagem em conjunto com o critério de Routh-Hurwitz.\n",
        "\n",
        "Essa técnica fornece informações gráficas e, portanto, um esboço aproximado pode ser usado para obter informações qualitativas sobre a estabilidade e desempenho do sistema. Além disso, o lugar das raízes da equação característica de um sistema de múltiplas malhas pode ser investigado com a mesma facilidade que para um sistema de malha única. Se as localizações das raízes não forem satisfatórias, os ajustes necessários dos parâmetros podem ser prontamente determinados a partir do lugar das raízes."
      ],
      "metadata": {
        "id": "B3L8iV0NYF-e"
      }
    },
    {
      "cell_type": "markdown",
      "source": [
        "###7.2 O Conceito do Lugar da Raízes"
      ],
      "metadata": {
        "id": "0ygUpqtgYLuR"
      }
    },
    {
      "cell_type": "markdown",
      "source": [
        "\n",
        "\n",
        "O desempenho dinâmico de um sistema de controle em malha fechada é descrito pela função de transferência em malha fechada\n",
        "\n",
        "<br>\n",
        "\n",
        "$$T(s) = \\frac{Y(s)}{R(s)} = \\frac{p(s)}{q(s)}$$\n",
        "\n",
        "<br>\n",
        "\n",
        ", onde $p(s)$ e $q(s)$ são polinômios em $s$. As raízes da equação característica $q(s)$ determinam os modos de resposta do sistema.\n",
        "\n",
        "No caso de um sistema simples de malha única, temos a equação característica $1 + KG(s) = 0$, onde $K$ é um parâmetro variável. As raízes características do sistema devem satisfazer a equação\n",
        "$1 + KG(s) = 0$.\n",
        "\n",
        "O lugar das raízes é o caminho das raízes da equação característica traçado no plano $s$ à medida que um parâmetro do sistema varia de zero ao infinito. No caso de um sistema de segunda ordem, a equação característica é $s^2 + 2s + K = 0$.\n",
        "\n",
        "O lugar das raízes é encontrado ao satisfazer $\\left| KG(s) \\right| = 1$ e $\\angle KG(s) = \\pm 180^\\circ, \\pm 540^\\circ, \\ldots$\n",
        "\n",
        "Para sistemas de múltiplas malhas, a função $F(s)$ pode ser escrita como\n",
        "\n",
        "<br>\n",
        "\n",
        "$$F(s) = K \\frac{(s + z_1)(s + z_2) \\ldots (s + z_M)}{(s + p_1)(s + p_2) \\ldots (s + p_N)}$$\n",
        "\n",
        "<br>\n",
        "\n",
        ", onde $\\left| F(s) \\right| = 1$ e $\\angle F(s) = 180^\\circ + k360^\\circ$.\n",
        "\n",
        "Essa técnica permite determinar o comportamento das raízes conforme os parâmetros do sistema são ajustados. Dessa forma, o engenheiro pode avaliar a estabilidade e o desempenho do sistema, realizando os ajustes necessários nos parâmetros de controle."
      ],
      "metadata": {
        "id": "fxjsijCMYOXc"
      }
    },
    {
      "cell_type": "markdown",
      "source": [
        "### 7.3 O Procedimento do Lugar das Raízes\n",
        "\n",
        "\n"
      ],
      "metadata": {
        "id": "tvc1rXMOYRUY"
      }
    },
    {
      "cell_type": "markdown",
      "source": [
        "\n",
        "### 7.4 Projeto de Parâmetros pelo Método do Lugar das Raízes\n",
        "\n",
        "O método do lugar das raízes foi inicialmente desenvolvido para determinar o lugar das raízes da equação característica à medida que o ganho do sistema $K$, varia de zero ao infinito. No entanto, como vimos, o efeito de outros parâmetros do sistema pode ser prontamente investigado usando o método do lugar das raízes. Fundamentalmente, o método do lugar das raízes está relacionado a uma equação característica que pode ser escrita como:\n",
        "\n",
        "$$1 + F(s) = 0.$$\n"
      ],
      "metadata": {
        "id": "TJY8DdRcYoii"
      }
    },
    {
      "cell_type": "markdown",
      "source": [
        "Em um sistema de controle dinâmico, a equação característica pode ser escrita como:\n",
        "\n",
        "$$a_ns^n + a_{n-1}s^{n-1} + \\cdots + a_1s + a_0 = 0.$$\n",
        "\n",
        "<br>\n",
        "\n",
        "O efeito de variar $0 \\leq a_1 < \\infty$ pode ser investigado a partir da equação do lugar das raízes:\n",
        "\n",
        "$$1 + a_1s \\frac{1}{a_ns^n + a_{n-1}s^{n-1} + \\cdots + a_0} = 0.$$\n",
        "\n",
        "<br>\n",
        "\n",
        "Se o parâmetro de interesse não aparecer como coeficiente único, o parâmetro pode ser isolado e a equação reescrita na forma do lugar das raízes. Por exemplo, uma equação de terceira ordem de interesse pode ser:\n",
        "\n",
        "$$s^3 + (3 + a)s^2 + 3s + 6 = 0,$$\n",
        "\n",
        "<br>\n",
        "\n",
        "onde o parâmetro $a$ pode ser isolado e reescrito como:\n",
        "\n",
        "$$s^3 + 3s^2 + a s^2 + 3s + 6 = 0.$$\n",
        "\n",
        "<br>\n",
        "\n",
        "Em seguida, a equação do lugar das raízes pode ser escrita como:\n",
        "\n",
        "$$1 + \\frac{a s^2}{s^3 + 3s^2 + 3s + 6} = 0.$$\n",
        "\n",
        "<br>\n",
        "\n",
        "Para determinar o efeito de dois parâmetros, repetimos o procedimento do lugar das raízes duas vezes. Para uma equação característica com dois parâmetros variáveis, $a$ e $\\beta$, temos:\n",
        "\n",
        "$$a_n s^n + a_{n-1} s^{n-1} + \\cdots + (a_{n-g} - a) s^{n-g} + a s^{n-g} + \\cdots + (a_{n-r} - \\beta) s^{n-r} + \\beta s^{n-r} + \\cdots + a_0 = 0.$$\n",
        "\n",
        "<br>\n",
        "\n",
        "A seguir, determinamos o efeito de $\\beta\\$ variando de zero ao infinito, repetindo o procedimento do lugar das raízes duas vezes."
      ],
      "metadata": {
        "id": "9JEfOPWTYqhk"
      }
    },
    {
      "cell_type": "markdown",
      "source": [
        "**Exemplo 7.5 Controle de Cabeça de Soldagem**\n",
        "\n",
        "Um cabeçote de soldagem requer um sistema de controle preciso para posicionar a cabeça de soldagem. O sistema de controle em malha fechada é projetado para satisfazer as seguintes especificações:\n",
        "\n",
        "1. Erro em regime permanente para uma entrada em rampa deve ser $e_{ss} \\leq 35\\%$\n",
        "2. Razão de amortecimento das raízes dominantes deve ser $\\zeta \\geq 0.707$\n",
        "3. Tempo de acomodação dentro de 2\\% do valor final deve ser $T_s \\leq 3 \\, \\text{s}$\n",
        "\n",
        "A estrutura do sistema de controle é mostrada na figura, onde os ganhos $K_1$ e $K_2$ são selecionados para atender às especificações.\n",
        "\n",
        "Para estender o método do lugar das raízes a mais de dois parâmetros, aumentamos o número de etapas no método delineado. Um conjunto de raízes pode ser gerado para dois parâmetros, a fim de determinar o efeito total da variação desses parâmetros."
      ],
      "metadata": {
        "id": "SYc2IeZLYuOU"
      }
    },
    {
      "cell_type": "markdown",
      "source": [
        "### 7.5 Sensibilidade e o Lugar das Raízes\n",
        "\n",
        "Uma das principais razões para o uso de feedback negativo em sistemas de controle é a redução do efeito de variações de parâmetros. O efeito das variações de parâmetros pode ser descrito por uma medida da sensibilidade do desempenho do sistema a mudanças específicas de parâmetros. Definimos a sensibilidade logarítmica, originalmente sugerida por Bode, como:\n",
        "\n",
        "$$S_K = \\frac{\\partial \\ln T}{\\partial \\ln K} = \\frac{K}{T} \\frac{\\partial T}{\\partial K}$$\n",
        "\n",
        "onde a função de transferência do sistema é $T(s)$ e o parâmetro de interesse é $(K)$.\n",
        "\n",
        "É útil definir uma medida de sensibilidade em termos das posições das raízes da equação característica. Como essas raízes representam os modos dominantes da resposta transitória, o efeito das variações de parâmetros na posição das raízes é uma medida importante e útil da sensibilidade."
      ],
      "metadata": {
        "id": "30eVyoA_YxQ9"
      }
    },
    {
      "cell_type": "markdown",
      "source": [
        "A sensibilidade das raízes de um sistema $T(s)$ pode ser definida como:\n",
        "\n",
        "$$S_k = \\frac{\\partial r_i}{\\partial \\ln K} = r_i \\frac{\\partial r_i}{\\partial K}$$\n",
        "\n",
        "<br>\n",
        "\n",
        "onde $r_i$ é a $i$-ésima raiz do sistema, de forma que\n",
        "\n",
        "$$T(s) = \\frac{K \\prod_{j=1}^{M} (s + z_j)}{\\prod_{i=1}^{N} (s + r_i)}$$\n",
        "\n",
        "<br>\n",
        "\n",
        "e $K$ é um parâmetro que afeta as raízes. A sensibilidade das raízes relaciona as mudanças na localização da raiz no plano $s$ à mudança no parâmetro. A sensibilidade das raízes está relacionada à sensibilidade logarítmica pela relação:\n",
        "\n",
        "$$S_k = \\sum_{i=1}^{N} \\frac{r_i}{K}$$\n",
        "\n",
        "<br>\n",
        "\n",
        "quando os zeros de $T(s)$ são independentes do parâmetro $(K)$.\n",
        "\n",
        "A sensibilidade das raízes pode ser obtida determinando a derivada de $T(s)$ em relação a $(K)$. Para este caso particular, quando o ganho do sistema é independente do parâmetro $(K)$, temos:\n",
        "\n",
        "$$S_K = -\\sum_{i=1}^{N} \\frac{r_i}{s + r_i}$$\n",
        "\n",
        "<br>\n",
        "\n",
        "e as duas medidas de sensibilidade estão diretamente relacionadas.\n",
        "\n",
        "A avaliação da sensibilidade das raízes para um sistema de controle pode ser facilmente realizada utilizando os métodos do lugar das raízes. A sensibilidade $(S_K)$ pode ser avaliada na raiz $r_i$ examinando os contornos das raízes para o parâmetro $(K)$. Podemos alterar $(K)$ por uma pequena quantidade finita $\\Delta K$ e determinar a raiz modificada $ r_i + \\Delta r_i $ em $K + \\Delta K$. Usando a equação:\n",
        "\n",
        "$$\\Delta r_i = \\frac{\\Delta K}{K} \\cdot S_K$$\n",
        "\n",
        "<br>\n",
        "\n",
        "Esta equação é uma aproximação que se aproxima do valor real da sensibilidade à medida que $\\Delta K \\rightarrow 0$."
      ],
      "metadata": {
        "id": "aklTekq6Y5Wd"
      }
    },
    {
      "cell_type": "markdown",
      "source": [
        "**Exemplo 7.6 Sensibilidade das raízes de um sistema de controle**\n",
        "\n",
        "A equação característica do sistema de controle de feedback mostrado na Figura 7.20 é:\n",
        "\n",
        "$$1 + \\frac{K}{s(s + \\beta)} = 0,$$\n",
        "\n",
        "<br>\n",
        "\n",
        "ou, alternativamente,\n",
        "\n",
        "$$s^2 + \\beta s + K = 0.$$\n",
        "\n",
        "<br>\n",
        "\n",
        "O ganho $K$ será considerado o parâmetro de interesse. Então, o efeito de uma mudança em cada parâmetro pode ser determinado utilizando as relações:\n",
        "\n",
        "$$\\alpha = \\alpha_0 \\pm \\Delta \\alpha \\quad \\text{e} \\quad \\beta = \\beta_0 \\pm \\Delta \\beta,$$\n",
        "\n",
        "<br>\n",
        "\n",
        "onde $\\alpha_0$ e $\\beta_0$ são os valores nominais ou desejados para os parâmetros $\\alpha$ e $\\beta$, respectivamente. Consideramos o caso em que o valor nominal é $\\beta_0 = 1$ e o ganho desejado é $\\alpha_0 = K = 0.5$. Então, o lugar das raízes pode ser obtido como uma função de $\\alpha = K$ utilizando a equação do lugar das raízes:\n",
        "\n",
        "$$1 + \\frac{K}{s(s + 1)} = 0,$$\n",
        "\n",
        "<br>\n",
        "\n",
        "conforme mostrado na Figura 7.21. O valor nominal do ganho $K = \\alpha_0 = 0.5$ resulta em duas raízes complexas, $r_1 = -0.5 + j0.5$ e $r_2 = -0.5 - j0.5$, conforme mostrado na Figura 7.21. Para avaliar o efeito de mudanças no ganho, a equação característica com $\\alpha = \\alpha_0 \\pm \\Delta \\alpha$ torna-se:\n",
        "\n",
        "$$s^2 + s + \\alpha_0 \\pm \\Delta \\alpha = s^2 + s + 0.5 \\pm \\Delta \\alpha.$$\n",
        "\n",
        "<br>\n",
        "\n",
        "Portanto, o efeito das mudanças no ganho pode ser avaliado a partir do lugar das raízes da Figura 7.21. Para uma mudança de 20% em $\\alpha$, temos $\\Delta \\alpha = \\pm 0.1$. As localizações das raízes para um ganho $\\alpha = 0.4$ e $\\alpha = 0.6$ são determinadas pelos métodos do lugar das raízes, e as localizações das raízes para $\\Delta \\alpha = \\pm 0.1$ são mostradas na Figura 7.21. Quando $\\alpha = K = 0.6$, a raiz no segundo quadrante do plano $s$ é:\n",
        "\n",
        "$$r_1 + \\Delta r_1 = -0.5 + j0.59,$$\n",
        "\n",
        "<br>\n",
        "\n",
        "e a mudança na raiz é $\\Delta r_1 = +j0.09$. Quando $\\alpha = K = 0.4$, a raiz no segundo quadrante é:\n",
        "\n",
        "$$r_1 + \\Delta r_1 = -0.5 + j0.387,$$\n",
        "\n",
        "<br>\n",
        "\n",
        "e a mudança na raiz é $\\Delta r_1 = -j0.11$. Assim, a sensibilidade das raízes para $r_1$ é:\n",
        "\n",
        "$$S_{r1} = \\frac{\\Delta r_1}{\\Delta K / K} = \\frac{j0.09}{0.2} = j0.45 = 0.45/\\angle +90°$$\n",
        "\n",
        "<br>\n",
        "\n",
        "para mudanças positivas no ganho. Para incrementos negativos no ganho, a sensibilidade é:\n",
        "\n",
        "$$S_{r1} = \\frac{\\Delta r_1}{\\Delta K / K} = \\frac{-j0.11}{0.2} = -j0.55 = 0.55/\\angle -90°.$$\n",
        "\n",
        "<br>\n",
        "\n",
        "Para mudanças infinitesimalmente pequenas no parâmetro $K$, a sensibilidade será igual para incrementos negativos ou positivos em $K$. O ângulo da sensibilidade das raízes indica a direção em que a raiz se move à medida que o parâmetro varia. O ângulo de movimento para $\\Delta \\alpha$ é sempre 180° do ângulo de movimento para $- \\Delta \\alpha$ no ponto $\\alpha = \\alpha_0$."
      ],
      "metadata": {
        "id": "0OALQYidY7xe"
      }
    },
    {
      "cell_type": "markdown",
      "source": [
        "### 7.6 Controladores PID\n",
        "\n",
        "Um tipo de controlador amplamente utilizado no controle de processos industriais é o controlador PID de três termos.\n",
        "A popularidade dos controladores PID pode ser atribuída em parte ao seu bom desempenho em uma ampla faixa de condições operacionais e em parte à sua simplicidade funcional, o que permite que engenheiros os operem de maneira simples e direta. Para implementar o controlador PID, três parâmetros devem ser determinados: o ganho proporcional, denotado por $K_p$, o ganho integral, denotado por $K_I$, e o ganho derivativo, denotado por $K_D$.\n",
        "\n",
        "Existem muitos métodos disponíveis para determinar valores aceitáveis para os ganhos PID. O processo de determinação dos ganhos é frequentemente chamado de ajuste PID. Uma abordagem comum para o ajuste é usar métodos manuais, em que os ganhos de controle PID são obtidos por tentativa e erro com análise mínima utilizando respostas a degrau obtidas por meio de simulação ou, em alguns casos, testes reais no sistema e decidindo os ganhos com base em observações e experiência. Um método mais analítico é conhecido como método de ajuste de Ziegler-Nichols.\n",
        "Este controlador possui a seguinte função de transferência:\n",
        "\n",
        "$$G_c(s) = K_p + \\frac{K_I}{s} + K_D s$$\n"
      ],
      "metadata": {
        "id": "Qg1MD6eLZA4g"
      }
    },
    {
      "cell_type": "markdown",
      "source": [
        "A equação para a saída no domínio do tempo é:\n",
        "\n",
        "$$u(t) = K_p e(t) + K_I \\int e(t) \\, dt + K_D \\frac{d e(t)}{dt}$$\n",
        "\n",
        "<br>\n",
        "\n",
        "O controlador PID é denominado assim porque contém um termo proporcional, um termo integral e um termo derivativo representados por $K_p$, $K_I$ e $K_D$, respectivamente. A função de transferência do termo derivativo é:\n",
        "\n",
        "$$G_d(s) = \\frac{K_D s}{T_d s + 1}$$\n",
        "\n",
        "<br>\n",
        "\n",
        "mas $T_d$ geralmente é muito menor que as constantes de tempo do próprio processo, portanto, é negligenciado.\n",
        "\n",
        "Se definirmos $K_D = 0$, temos o controlador proporcional mais integral (PI):\n",
        "\n",
        "$$G(s) = K_p + \\frac{K_I}{s}$$\n",
        "\n",
        "Quando $K_I = 0$, temos:\n",
        "\n",
        "$$G_c(s) = K_p + K_D s$$\n",
        "\n",
        "<br>\n",
        "\n",
        "que é chamado de controlador proporcional mais derivativo (PD).\n",
        "\n",
        "O controlador PID também pode ser visto como uma cascata dos controladores PI e PD. Considerando o controlador PI:\n",
        "\n",
        "$$G_{PI}(s) = K_p + \\frac{K_I}{s}$$\n",
        "\n",
        "e o controlador PD:\n",
        "\n",
        "$$G_{PD}(s) = K_p + K_D s$$\n",
        "\n",
        "<br>\n",
        "\n",
        "Cascateando os dois controladores (ou seja, colocando-os em série), obtemos:\n",
        "\n",
        "$$G_c(s) = G_{PI}(s) G_{PD}(s) = (K_p + \\frac{K_I}{s}) (K_p + K_D s) = \\left(K_p K_p + K_I K_D\\right) + \\left(K_p K_D\\right) s + \\frac{K_I}{s} = K_p + K_D s + \\frac{K_I}{s}$$\n",
        "\n",
        "<br>\n",
        "\n",
        "Portanto, temos as seguintes relações entre os ganhos dos controladores PI e PD e os ganhos do controlador PID:\n",
        "\n",
        "$$K_p = K_p K_p + K_I K_D$$\n",
        "\n",
        "$$K_D = K_p K_D$$\n",
        "\n",
        "$$K_I = K_I K_D$$\n",
        "\n"
      ],
      "metadata": {
        "id": "ak2QT1_6ZDd3"
      }
    },
    {
      "cell_type": "markdown",
      "source": [
        "### 7.7 Lugar das Raízes com Ganho Negativo\n",
        "\n",
        "Como discutido na Seção 7.2, o desempenho dinâmico de um sistema de controle em malha fechada é descrito pela função de transferência em malha fechada, ou seja, pelos polos e zeros do sistema em malha fechada. O lugar das raízes é uma ilustração gráfica da variação das raízes da equação característica conforme um parâmetro de interesse varia. Sabemos que as raízes da equação característica e os polos de malha fechada são a mesma coisa. No caso do sistema de malha única com feedback negativo unitário mostrado na Figura 7.1, a equação característica é:\n",
        "\n",
        "$$1 + KG(s) =0,$$\n",
        "\n",
        "onde $K$ é o parâmetro de interesse. O procedimento ordenado de sete etapas para esboçar o lugar das raízes descrito na Seção 7.3 e resumido na Tabela 7.2 é válido para o caso em que $0 \\leq K < \\infty$. Às vezes, surge a situação em que estamos interessados no lugar das raízes para valores negativos do parâmetro de interesse onde $-\\infty < K \\leq 0$. Chamamos isso de lugar das raízes com ganho negativo. Nosso objetivo aqui é desenvolver um procedimento ordenado para esboçar o lugar das raízes com ganho negativo, usando conceitos familiares de esboço do lugar das raízes conforme descrito na Seção 7.2."
      ],
      "metadata": {
        "id": "ZaD7QfmKZF5_"
      }
    },
    {
      "cell_type": "markdown",
      "source": [
        "\n",
        "\n",
        "Rearranjando a Equação, obtemos:\n",
        "\n",
        "$$G(s) = \\frac{- 1}{K}$$\n",
        "\n",
        "\n",
        "Como $K$ é negativo, segue que:\n",
        "\n",
        "$$|KG(s)| =1$$\n",
        "$$KG(s) = 0° + k360°$$\n",
        "\n",
        "onde $k = 0, \\pm1, \\pm2, \\pm3, \\ldots$. As condições de magnitude e fase na Equação devem ser satisfeitas para todos os pontos no lugar das raízes com ganho negativo.\n",
        "\n"
      ],
      "metadata": {
        "id": "W3RBonC-ZJpk"
      }
    },
    {
      "cell_type": "markdown",
      "source": [
        "#### 7.8 Exemplos de Projeto\n",
        "\n",
        "Nesta seção, apresentamos dois exemplos ilustrativos. O primeiro exemplo é um sistema de controle de velocidade de uma turbina eólica. O sistema de controle de feedback utiliza um controlador PI para obter um tempo de acomodação e tempo de subida rápidos, limitando o percentual de sobresinal para uma entrada de degrau. No segundo exemplo, consideramos o controle automático da velocidade de um automóvel. O método do lugar das raízes é estendido de um parâmetro para três parâmetros, à medida que os três ganhos de um controlador PID são determinados. O processo de projeto é enfatizado, incluindo a consideração dos objetivos de controle e das variáveis associadas a serem controladas, as especificações de projeto e o projeto do controlador PID usando métodos de lugar das raízes.\n",
        "\n",
        "**Exemplo 7.11: Controle de Velocidade de Turbina Eólica**\n",
        "\n",
        "\n",
        "A conversão de energia eólica em energia elétrica é realizada por turbinas eólicas conectadas a geradores elétricos. De particular interesse são as turbinas eólicas localizadas offshore. O novo conceito é permitir que a turbina eólica flutue em vez de posicionar a estrutura em uma torre amarrada profundamente no fundo do oceano. Isso permite que a estrutura da turbina eólica seja colocada em águas mais profundas, até 100 milhas offshore, longe o suficiente para não sobrecarregar a paisagem com estruturas desagradáveis. Além disso, o vento é geralmente mais forte no oceano aberto, potencialmente levando à produção de 5 MW, em comparação com os típicos 1,5 MW para turbinas eólicas onshore. No entanto, o caráter irregular da direção e potência do vento resulta na necessidade de energia elétrica confiável e estável, utilizando sistemas de controle para as turbinas eólicas. O objetivo desses dispositivos de controle é reduzir os efeitos da intermitência do vento e da mudança de direção do vento. O controle da velocidade do rotor e do gerador pode ser obtido ajustando o ângulo de inclinação das pás.\n",
        "\n",
        "Um modelo básico do sistema de controle de velocidade do gerador é mostrado na Figura 7.41. Um modelo linearizado da inclinação coletiva para a velocidade do gerador é dado por:\n",
        "\n",
        "$$ G(s) = \\frac{4.2158(s - 827.1)}{(s + 0.195)(s^2 + 0.101s + 482.6)} $$\n",
        "\n",
        "O modelo simplificado é dado pela função de transferência:\n",
        "\n",
        "$$ G(s) = \\frac{K}{TS + 1} $$\n",
        "\n",
        "onde $ T = 5 \\, s $ e $ K = -7200 $. Vamos projetar um controlador PI para controlar a velocidade do gerador da turbina usando o modelo simplificado de primeira ordem e confirmar que as especificações de projeto são satisfeitas para ambos os modelos de primeira ordem e terceira ordem.\n",
        "\n",
        "A especificação principal de design é ter um tempo de acomodação $ T_s < 4 \\, s $ para uma entrada de degrau unitário. Também desejamos um percentual de sobresinal limitado ($ P.O. < 25 \\% $) e um tempo de subida curto ($ T_r < 1 \\, s $) enquanto atendemos à especificação de tempo de acomodação.\n",
        "\n",
        "**Projeto do Controlador PI**\n",
        "\n",
        "A função de transferência do controlador PI é dada por:\n",
        "\n",
        "$$ G_c(s) = K_p + \\frac{K_I}{s} $$\n",
        "\n",
        "onde os ganhos $ K_p $ e $ K_I $ serão determinados. A análise de estabilidade indica que ganhos negativos $ K_I < 0 $ e $ K_p < 0 $ estabilizarão o sistema.\n",
        "\n",
        "Vamos projetar o controlador PI de forma que o tempo de acomodação e o percentual de sobresinal atendam às especificações de projeto.\n"
      ],
      "metadata": {
        "id": "Ujx3Mrx3ZL0E"
      }
    }
  ]
}