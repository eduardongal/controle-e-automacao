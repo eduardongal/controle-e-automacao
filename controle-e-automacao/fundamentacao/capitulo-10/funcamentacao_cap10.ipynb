{
  "nbformat": 4,
  "nbformat_minor": 0,
  "metadata": {
    "colab": {
      "provenance": []
    },
    "kernelspec": {
      "name": "python3",
      "display_name": "Python 3"
    },
    "language_info": {
      "name": "python"
    }
  },
  "cells": [
    {
      "cell_type": "markdown",
      "source": [
        "## Capítulo 10: Projeto de Sistemas de Controle de Feedback"
      ],
      "metadata": {
        "id": "LlQ0gYXWb7b_"
      }
    },
    {
      "cell_type": "markdown",
      "source": [
        "### 10.1 Introdução\n",
        "\n",
        "O desempenho de um sistema de controle de feedback é crucial, envolvendo estabilidade, resposta adequada a entradas, baixa sensibilidade a variações de parâmetros, erro de estado estacionário mínimo e capacidade de reduzir distúrbios. Raramente um sistema atende a todas as especificações ideais sem ajustes, exigindo compromissos entre requisitos conflitantes. O ajuste de parâmetros pode não ser suficiente, sendo necessário, em alguns casos, redesenhar a estrutura do sistema para alcançar o desempenho desejado.\n",
        "\n",
        "O projeto de controle envolve a seleção de componentes e parâmetros adequados, mas requisitos conflitantes (como sobresinal percentual $P.O. \\leq 20\\%$ e um tempo de pico $T_p = 3.3$) podem exigir alterações no sistema.\n",
        "\n",
        "Esse ajuste é chamado de compensação, que visa corrigir deficiências de desempenho. Um compensador é um componente adicional inserido no sistema para equalizar o desempenho, com função de transferência $G_c(s) = \\frac{E_{out}(s)}{E_{in}(s)}$, o compensador pode ser colocado em um local adequado dentro da estrutura do sistema. O compensador colocado no caminho direto é chamado de compensador em cascata. Da mesma forma, os outros esquemas de compensação são chamados de compensação de feedback, compensação de saída (ou carga) e compensação de entrada. A escolha do esquema depende das especificações, níveis de potência e redes disponíveis. A compensação de saída, por exemplo, nem sempre é fisicamente realizável.\n"
      ],
      "metadata": {
        "id": "4Qj3NGLhcAu-"
      }
    },
    {
      "cell_type": "markdown",
      "source": [
        "### 10.2 Abordagens para o Projeto de Sistemas\n",
        "\n",
        "O desempenho de um sistema de controle pode ser avaliado no domínio do tempo (através de $T_p$, $P.O.$, $T_s$ e erro em regime permanente) ou no domínio da frequência (usando $M_{pO}$, $\\omega_r$, $\\omega_B$, $G.M.$ e $P.M.$). Essas especificações são traduzidas para a localização desejada dos polos e zeros da função de transferência em malha fechada $T(s)$. Quando o lugar das raízes não atende às especificações, um compensador é adicionado para ajustar o sistema. O projeto pode ser feito por dois métodos principais: o método do lugar das raízes, que foca na localização dos polos no plano $s$, e os métodos de resposta em frequência, que utilizam gráficos de Nyquist, Bode ou Nichols para ajustar a resposta do sistema.\n",
        "\n",
        "Em alguns casos, o desempenho pode ser melhorado alterando o próprio processo $G(s)$, como escolher um motor mais adequado ou modificar o projeto aerodinâmico de um avião. No entanto, quando o processo não pode ser alterado, a compensação torna-se essencial. Compensadores, como os de avanço de fase (para melhorar a resposta transitória) e integração (para reduzir erros em regime permanente), são projetados para atender às especificações. Esses compensadores podem ser posicionados em cascata, no feedback, na saída ou na entrada do sistema, dependendo das necessidades.\n",
        "\n",
        "Nas seções seguintes, assumimos que o processo já foi otimizado, e o foco será no projeto de compensadores usando tanto o lugar das raízes quanto os métodos de resposta em frequência, garantindo que o sistema atenda às especificações de desempenho."
      ],
      "metadata": {
        "id": "h0a1F1nwcDcb"
      }
    },
    {
      "cell_type": "markdown",
      "source": [
        "### 10.3 Compensadores em Cascata\n",
        "\n",
        "Nesta seção, consideramos o projeto de um compensador em cascata, como mostrado nas Figuras 10.1(a) e 10.1(b). O compensador $G_c(s)$ é cascado com o processo $G(s)$ para fornecer uma função de transferência de malha adequada $L(s) = G_c(s)G(s)H(s)$. O compensador $G_c(s)$ pode ser escolhido para alterar a forma do lugar das raízes ou a resposta em frequência. Em ambos os casos, o compensador pode ser escolhido para ter uma função de transferência:\n",
        "\n",
        "$$G_c(s) = K \\frac{\\prod_{i=1}^{M} (s + z_i)}{\\prod_{j=1}^{n} (s + p_j)}$$\n",
        "\n",
        "Então, o problema se resume à seleção criteriosa dos polos e zeros do compensador. Para ilustrar as propriedades, consideramos um compensador de primeira ordem. A abordagem de compensação desenvolvida com base em um compensador de primeira ordem pode ser estendida para compensadores de ordem superior, por exemplo, cascando vários compensadores de primeira ordem.\n",
        "\n",
        "Um compensador $G_c(s)$ é utilizado com um processo $G(s)$ para que o ganho total da malha possa ser ajustado para satisfazer o requisito de erro em regime estacionário, e então $G_c(s)$ é usado para ajustar dinamicamente o sistema sem afetar o erro em regime estacionário.\n",
        "$$$"
      ],
      "metadata": {
        "id": "Th2IdPzEcHp_"
      }
    },
    {
      "cell_type": "markdown",
      "source": [
        "**Compensador de Avanço de Fase**\n",
        "\n",
        "Considerando um compensador de primeira ordem com a função de transferência:\n",
        "\n",
        "$$G_c(s) = K \\frac{(s + z)}{(s + p)}$$\n",
        "\n",
        "O problema de design se torna a seleção de $z$, $p$ e $K$ para fornecer um desempenho adequado. Quando $|z| < |p|$, o compensador é chamado de compensador de avanço de fase e tem uma configuração de polos e zeros no plano $s$, conforme mostrado na Figura 10.2. Se o polo for desprezível, ou seja, $|p| \\gg |z|$, e o zero ocorrer na origem do plano $s$, teremos um diferenciador:\n",
        "\n",
        "$$ G_c(s) \\approx Ks $$\n",
        "\n",
        "Portanto, um compensador na forma da Equação (10.2) é um compensador do tipo diferenciador. A característica de frequência de um compensador diferenciador é:\n",
        "\n",
        "$$ G(j\\omega) = K(j\\omega) $$\n",
        "\n",
        "com um ângulo de fase de +90°. De forma semelhante, a resposta em frequência do compensador diferenciador na Equação (10.2) é:\n",
        "\n",
        "$$ G_c(j\\omega) = K \\frac{(j\\omega + z)}{(j\\omega + p)} = K \\left( \\frac{1 + j\\omega\\tau}{1 + j\\omega\\alpha\\tau} \\right) $$\n",
        "\n",
        "onde $\\tau = 1/p$ e $p = \\alpha z$. A resposta em frequência desse compensador de avanço de fase é mostrada na Figura 10.3. O ângulo da característica de frequência é:\n",
        "\n",
        "$$ \\phi(\\omega) = \\tan^{-1}(\\alpha\\omega\\tau) - \\tan^{-1}(\\omega\\tau) $$\n",
        "\n"
      ],
      "metadata": {
        "id": "xOfGHiAkcKqn"
      }
    },
    {
      "cell_type": "markdown",
      "source": [
        "### 10.4 Projeto de Compensador de Avanço de Fase Utilizando o Diagrama de Bode\n",
        "\n",
        "O diagrama de Bode é utilizado para projetar um compensador de avanço de fase, adicionando a resposta em frequência do compensador em cascata ao sistema não compensado. O objetivo é ajustar os polos e zeros do compensador para modificar a resposta em frequência de forma satisfatória.\n",
        "\n",
        "**Exemplo de Projeto de Compensador de Avanço de Fase**\n",
        "\n",
        "Consideramos um sistema de segunda ordem com a função de transferência:\n",
        "\n",
        "$$ G(s) = \\frac{10}{s(s+1)} $$"
      ],
      "metadata": {
        "id": "79ka1u3HcTDF"
      }
    },
    {
      "cell_type": "markdown",
      "source": [
        "### 10.5 Projeto de Compensador de Avanço de Fase Utilizando o Lugar das Raízes\n",
        "\n",
        "O projeto de um compensador de avanço de fase também pode ser realizado usando o lugar das raízes. As localizações do zero e do polo do compensador são selecionadas de forma que resultam em um lugar das raízes satisfatório para o sistema compensado. As especificações do sistema são usadas para especificar a localização desejada das raízes dominantes do sistema.\n",
        "\n",
        "**Exemplo de Projeto de Compensador de Avanço de Fase Usando o Lugar das Raízes**\n",
        "\n",
        "Considere novamente o sistema do Exemplo 10.1, onde a função de transferência em malha aberta é:\n",
        "\n",
        "$$ L(s) = G_c(s)G(s) = \\frac{10K}{s(s+1)} $$\n",
        "\n",
        "Desejamos projetar um compensador de avanço de fase que satisfaça as seguintes especificações:\n",
        "- Tempo de acomodação ($T_s$) de 4 segundos (critério de 2%)\n",
        "- Percentual de overshoot ($P.O.$) menor ou igual a 35%\n",
        "\n",
        "Podemos traduzir essas especificações para uma razão de amortecimento ($\\zeta$) maior ou igual a 0.32 e uma frequência natural não amortecida ($\\omega_n$) de 1 rad/s. Escolhemos uma localização desejada das raízes dominantes como $ s = -1 \\pm j2 $, o que resulta em $\\zeta = 0.45$."
      ],
      "metadata": {
        "id": "tJyUJEnecT72"
      }
    },
    {
      "cell_type": "markdown",
      "source": [
        "### 10.6 Projeto de Sistemas Usando Compensadores de Integração\n",
        "\n",
        "Para muitos sistemas de controle, o principal objetivo é obter uma alta precisão em regime permanente. Outro objetivo é manter o desempenho transitório desses sistemas dentro de limites razoáveis. A precisão em regime permanente de muitos sistemas de feedback pode ser melhorada aumentando o ganho no canal direto. No entanto, a resposta transitória resultante pode ser inaceitável ou até instável. Portanto, muitas vezes é necessário introduzir um compensador na trajetória direta de um sistema de controle de feedback para proporcionar precisão suficiente em regime permanente.\n",
        "\n",
        "Considerando o sistema de controle de malha simples mostrado na Figura 10.12. O compensador é escolhido para fornecer uma constante de erro grande. Com $ G_p(s) = 1 $, o erro em regime permanente deste sistema é dado por:\n",
        "\n",
        "$$ \\lim_{{t \\to \\infty}} e(t) = \\lim_{{s \\to 0}} \\left( \\frac{R(s)}{1 + G_c(s)G(s)H(s)} \\right) $$\n",
        "\n",
        "O erro em regime permanente de um sistema depende do número de polos na origem para $ L(s) = G_c(s)G(s)H(s) $. Um polo na origem pode ser considerado uma integração, e, portanto, a precisão em regime permanente de um sistema depende, em última análise, do número de integrações na função de transferência em malha. Se a precisão em regime permanente não for suficiente, introduziremos um compensador do tipo integração $ G_c(s) $ para compensar a falta de integração na função de transferência em malha não compensada $ G(s)H(s) $.\n",
        "\n",
        "Uma forma amplamente utilizada de controlador é o controlador proporcional mais integral (PI), que tem a função de transferência:\n",
        "\n",
        "$$ G_c(s) = K_p + \\frac{K_I}{s} $$\n",
        "\n",
        "**Exemplo de Projeto de Compensador PI**\n",
        "\n",
        "Considere um sistema de controle onde a função de transferência $ H(s) = 1 $ e a função de transferência do processo é:\n",
        "\n",
        "$$ G(s) = \\frac{K}{(T_1s + 1)(T_2s + 1)} $$\n",
        "\n",
        "O erro em regime permanente do sistema não compensado é:\n",
        "\n",
        "$$ \\lim_{{t \\to \\infty}} e(t) = \\lim_{{s \\to 0}} \\left( \\frac{A/s}{1 + G(s)} \\right) = \\frac{A}{1 + K} $$\n",
        "\n",
        "Para eliminar o erro em regime permanente deste sistema, escolhemos um compensador PI:\n",
        "\n",
        "$$ G_c(s) = K_p + \\frac{K_I}{s} $$\n",
        "\n",
        "O erro em regime permanente para um degrau unitário do sistema é sempre zero, porque:\n",
        "\n",
        "$$ \\lim_{{t \\to \\infty}} e(t) = \\lim_{{s \\to 0}} \\left( \\frac{A/s}{1 + \\left( K_p + \\frac{K_I}{s} \\right) \\frac{K}{(T_1s + 1)(T_2s + 1)}} \\right) = 0 $$\n",
        "\n",
        "O desempenho transitório pode ser ajustado para satisfazer as especificações do sistema ajustando as constantes $ K $, $ K_p $ e $ K_I $. O ajuste da resposta transitória é talvez melhor realizado usando métodos de lugar das raízes e desenhando um lugar das raízes para o ganho $ K_pK $ após localizar o zero $ s = - \\frac{K_I}{K_p} $ no plano s."
      ],
      "metadata": {
        "id": "dr7LXWkycbda"
      }
    },
    {
      "cell_type": "markdown",
      "source": [
        "### 10.7 Projeto de Compensador de Atraso de Fase Utilizando o Lugar das Raízes\n",
        "\n",
        "O lugar das raízes é uma ferramenta poderosa para o projeto de compensadores de atraso de fase, onde os polos e zeros do compensador são posicionados de forma a otimizar a resposta do sistema. O compensador de atraso de fase pode ser representado por:\n",
        "\n",
        "$$ G_c(s) = K \\frac{1 + \\alpha T s}{1 + T s} $$\n",
        "\n",
        "onde $ \\alpha > 1 $. Este compensador aumenta a margem de ganho e melhora a precisão do sistema em regime permanente.\n",
        "\n",
        "#### Exemplo de Projeto de Compensador de Atraso de Fase\n",
        "\n",
        "Considere um sistema de segunda ordem com a função de transferência em malha aberta:\n",
        "\n",
        "$$ L(s) = \\frac{10}{s(s+1)} $$\n",
        "\n",
        "Desejamos projetar um compensador de atraso de fase que satisfaça as especificações desejadas."
      ],
      "metadata": {
        "id": "ov6Pz6u8ceQH"
      }
    },
    {
      "cell_type": "markdown",
      "source": [
        "### 10.8 Projeto de Compensador de Atraso de Fase Utilizando o Diagrama de Bode\n",
        "\n",
        "O design de um compensador de atraso de fase pode ser realizado utilizando o diagrama de Bode. A função de transferência do compensador de atraso de fase, escrita em forma de diagrama de Bode, é:\n",
        "\n",
        "$$ G_c(s) = K \\frac{1 + \\tau s}{1 + \\beta \\tau s} $$\n",
        "\n",
        "**Exemplo de Projeto de Compensador de Atraso de Fase**\n",
        "\n",
        "Considerando o sistema de feedback unitário de exemplo com a função de transferência em malha aberta:\n",
        "\n",
        "$$ L(s) = G_c(s)G(s) = \\frac{K}{s(s+1)} $$\n",
        "\n",
        "Podemos projetar um compensador de atraso de fase para obter a margem de fase desejada."
      ],
      "metadata": {
        "id": "JzLAp1cJcoZR"
      }
    },
    {
      "cell_type": "markdown",
      "source": [
        "### 10.9 Projeto no Diagrama de Bode Usando Métodos Analíticos\n",
        "\n",
        "Uma técnica analítica para selecionar os parâmetros de um compensador de estágio único foi desenvolvida para o diagrama de Bode. Para um compensador de estágio único:\n",
        "\n",
        "$$ G(s) = K \\frac{1 + Ts}{1 + \\alpha Ts} $$\n",
        "\n",
        "onde $ \\alpha < 1 $ resulta em atraso de fase e $ \\alpha > 1 $ resulta em avanço de fase. A contribuição de fase do compensador na frequência de cruzamento desejada ($\\omega_c$) é dada por:\n",
        "\n",
        "$$ \\phi = \\tan^{-1} \\left(\\frac{1 - \\alpha}{1 + \\alpha}\\right) $$\n",
        "\n",
        "A magnitude $ M $ (em dB) do compensador na frequência $\\omega_c$ é:\n",
        "\n",
        "$$ M = 20 \\log \\left( K \\sqrt{\\frac{1 + (\\omega_c T)^2}{1 + (\\alpha \\omega_c T)^2}} \\right) $$\n",
        "\n",
        "Eliminando $\\omega_c T$ das equações acima, obtemos a solução não trivial para $\\alpha$:\n",
        "\n",
        "$$ (\\phi^2 - M + 1)\\alpha^2 + 2\\phi^2 M \\alpha + \\phi^2 M^2 + M^2 - M = 0 $$\n",
        "\n",
        "Para um compensador de estágio único, é necessário que $ M > \\phi^2 + 1 $. Solucionando para $\\alpha$, podemos obter $ T $ a partir de:\n",
        "\n",
        "$$ T = \\frac{1}{\\omega_c \\sqrt{M - \\alpha^2}} $$\n",
        "\n"
      ],
      "metadata": {
        "id": "nvxJvWyIcr9f"
      }
    },
    {
      "cell_type": "markdown",
      "source": [
        "###10.10 Sistema com um pré-filtro\n",
        "Nesta seção, exploramos o uso de pré-filtros em sistemas de controle de feedback. Enquanto compensadores como $G_c(s)$ ajustam as raízes da equação característica do sistema em malha fechada, o pré-filtro $G_p(s)$ é utilizado para eliminar zeros indesejáveis que afetam a resposta do sistema.\n",
        "\n",
        "Vamos considerar um sistema com a função de transferência $G(s) = \\frac{1}{s}$ e um compensador PI, $G_c(s) = K_p + \\frac{K_I}{s}$, onde $K_p$ é o ganho proporcional e $K_I$ é o ganho integral. A função de transferência em malha fechada do sistema com um pré-filtro é:\n",
        "\n",
        "$$T(s) = \\frac{(K_p s + K_I) G_p(s)}{s^2 + K_p s + K_I}$$\n",
        "\n",
        "As especificações exigem um tempo de acomodação ($T_s$) de 0.5 segundos e um sobresinal percentual ($P.O.$) de aproximadamente 4\\%. Usando $\\zeta = \\frac{1}{\\sqrt{2}}$, obtemos $\\omega_n = 8$, o que nos leva a $K_p = 16$ e $K_I = 128$.\n",
        "\n",
        "A função de transferência em malha fechada, quando $G_p(s) = 1$, é:\n",
        "\n",
        "$$T(s) = \\frac{16(s + 8)}{s^2 + 16s + 128}$$\n",
        "\n",
        "No entanto, o efeito do zero na resposta ao degrau é significativo, resultando em um sobresinal de 21\\%. Para eliminar esse zero, usamos um pré-filtro $G_p(s) = \\frac{s + 8}{8}$, mantendo o ganho DC de 1. Assim, obtemos:\n",
        "\n",
        "$$T(s) = \\frac{128}{s^2 + 16s + 128}$$\n",
        "\n",
        "Isso reduz o sobresinal para 4.5\\%, conforme esperado.\n",
        "\n",
        "Outra aplicação do pré-filtro é no projeto de compensadores. Considerando um sistema com a função de transferência $G(s) = \\frac{1}{s(s + 1)(s + 5)}$ e um compensador $G_c(s) = K \\frac{s + 1.2}{s + 10}$. Ajustamos $K$ para obter as raízes complexas desejadas. Com $K = 78.7$, a função de transferência em malha fechada é:\n",
        "\n",
        "$$T(s) = \\frac{78.7(s + 1.2) G_p(s)}{(s^2 + 3.42s + 5.83)(s + 1.45)(s + 11.1)}$$\n",
        "\n",
        "Usando $G_p(s) = \\frac{s + p}{p}$, cancelamos o efeito do zero. A tabela 10.1 do livro mostra como diferentes valores de $p$ afetam o tempo de subida, o tempo de acomodação e o sobresinal."
      ],
      "metadata": {
        "id": "VqPib-e7cwcB"
      }
    },
    {
      "cell_type": "markdown",
      "source": [
        "### 10.11 Projeto para Resposta Deadbeat\n",
        "\n",
        "Frequentemente, o objetivo de um sistema de controle é alcançar uma resposta rápida a um comando em degrau com overshoot mínimo. Definimos uma resposta deadbeat como uma resposta que procede rapidamente ao nível desejado e se mantém nesse nível com overshoot mínimo. Utilizamos a banda de ±2% no nível desejado como a faixa aceitável de variação da resposta desejada. Se a resposta entra na faixa no tempo $T_s$, ela satisfaz o tempo de acomodação $T_s$ ao entrar na banda.\n",
        "\n",
        "Uma resposta deadbeat possui as seguintes características:\n",
        "1. Erro em regime permanente = 0\n",
        "2. Resposta rápida -> $T_r$ e $T_s$ mínimos\n",
        "3. $0.1\\% \\leq P.O. < 2\\%$\n",
        "4. Percentual de undershoot $P.U. < 2\\%$\n",
        "\n",
        "Para obter a resposta deadbeat, normalizamos a função de transferência $T(s)$ de um sistema em malha fechada. Para um sistema de terceira ordem, a função de transferência padrão é:\n",
        "\n",
        "$$ T(s) = \\frac{\\omega_n^3}{s^3 + a\\omega_n s^2 + b\\omega_n^2 s + \\omega_n^3} $$\n",
        "\n",
        "Dividindo o numerador e o denominador por $\\omega_n^3$, obtemos:\n",
        "\n",
        "$$ T(s) = \\frac{1}{\\left( \\frac{s}{\\omega_n} \\right)^3 + a \\left( \\frac{s}{\\omega_n} \\right)^2 + b \\left( \\frac{s}{\\omega_n} \\right) + 1} $$\n",
        "\n",
        "Seja $ s = \\frac{s}{\\omega_n} $, obtemos a função de transferência normalizada de terceira ordem:\n",
        "\n",
        "$$ T(s) = \\frac{1}{s^3 + as^2 + bs + 1} $$\n",
        "\n",
        "Para sistemas de ordem superior, aplicamos o mesmo método para derivar a equação normalizada. Os coeficientes da equação são ajustados para atender ao requisito de resposta deadbeat. A Tabela 10.2 apresenta os coeficientes selecionados para alcançar a resposta deadbeat e minimizar os tempos de acomodação e de subida. Com base no tempo de acomodação desejado, escolhemos $\\omega_n$.\n",
        "\n",
        "**Exemplo de Projeto de Resposta Deadbeat**\n",
        "\n",
        "Considere um sistema com feedback unitário, compensador $ G_c(s) $ e pré-filtro $ G_p(s) $. O processo é:\n",
        "\n",
        "$$ G(s) = \\frac{K}{s(s+1)} $$\n",
        "\n",
        "O compensador é:\n",
        "\n",
        "$$ G_c(s) = \\frac{s + z}{s + p} $$\n",
        "\n",
        "O pré-filtro necessário é:\n",
        "\n",
        "$$ G_p(s) = \\frac{s + z}{z} $$\n",
        "\n",
        "A função de transferência em malha fechada é:\n",
        "\n",
        "$$ T(s) = \\frac{Kz}{s^3 + (1 + p)s^2 + (K + p)s + Kz} $$\n",
        "\n",
        "Utilizamos a Tabela 10.2 para determinar os coeficientes $a = 1.90$ e $b = 2.20$. Se selecionarmos um tempo de acomodação $T_s = 2$ segundos, então $\\omega_n T_s = 4.04$ e, assim, $\\omega_n = 2.02$. A equação característica desejada é:\n",
        "\n",
        "$$ q(s) = s^3 + 3.84s^2 + 8.98s + 8.24 $$\n",
        "\n",
        "Determinamos que $p = 2.84$, $z = 1.34$ e $K = 6.14$. A resposta desse sistema terá $T_s = 2$ segundos e $T_r = 1.72$ segundos.\n"
      ],
      "metadata": {
        "id": "duukeJNFczUd"
      }
    }
  ]
}