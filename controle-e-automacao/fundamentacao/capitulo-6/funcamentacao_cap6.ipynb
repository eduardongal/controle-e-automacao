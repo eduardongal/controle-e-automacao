{
  "nbformat": 4,
  "nbformat_minor": 0,
  "metadata": {
    "colab": {
      "provenance": []
    },
    "kernelspec": {
      "name": "python3",
      "display_name": "Python 3"
    },
    "language_info": {
      "name": "python"
    }
  },
  "cells": [
    {
      "cell_type": "markdown",
      "source": [
        "## Capítulo 6: A Estabilidade de Sistemas de Feedback Linear"
      ],
      "metadata": {
        "id": "DE9D3MIPLT8c"
      }
    },
    {
      "cell_type": "markdown",
      "source": [
        "6.1 - O Conceito de Estabilidade\n",
        "\n",
        "6.2 - O Critério de Estabilidade de Routh-Hurwitz\n",
        "\n",
        "6.3 - A Estabilidade Relativa dos Sistemas de Controle de Feedback\n",
        "\n",
        "6.4 - A Estabilidade dos Sistemas de Variáveis de Estado\n",
        "\n",
        "6.5 - Exemplos de Projeto\n",
        "\n",
        "6.6 - Estabilidade do Sistema Usando Software de Projeto de Controle\n",
        "\n",
        "6.7 - Exemplo de Projeto Sequencial: Sistema de Leitura de Disco Rígido"
      ],
      "metadata": {
        "id": "icg10dh9La-a"
      }
    },
    {
      "cell_type": "markdown",
      "source": [
        "###6.1 - O Conceito de Estabilidade\n",
        "\n",
        "**Introdução**\n",
        "\n",
        "Ao considerar o projeto e a análise de sistemas de controle por feedback, a estabilidade é de suma importância. Um sistema de feedback em malha fechada que é instável tem pouco valor prático. Muitos sistemas físicos são inerentemente instáveis em malha aberta, e alguns sistemas são projetados para serem instáveis em malha aberta. Por exemplo, a maioria dos aviões de combate modernos são instáveis em malha aberta por design e não podem voar sem controle ativo de feedback."
      ],
      "metadata": {
        "id": "2DzLQbCkLft-"
      }
    },
    {
      "cell_type": "markdown",
      "source": [
        "**Estabilidade Absoluta e Relativa**\n",
        "\n",
        "Um sistema de feedback em malha fechada pode ser caracterizado como estável ou não estável. Essa caracterização é conhecida como estabilidade absoluta. Um sistema que possui estabilidade absoluta é chamado de sistema estável. Dado que um sistema em malha fechada é estável, podemos caracterizar ainda mais o grau de estabilidade, conhecido como estabilidade relativa."
      ],
      "metadata": {
        "id": "zrhzUVSfLiIG"
      }
    },
    {
      "cell_type": "markdown",
      "source": [
        "**Definição de Estabilidade**\n",
        "\n",
        "\n",
        "Um sistema estável é definido como um sistema com uma resposta limitada. Ou seja, se o sistema for submetido a uma entrada ou perturbação limitada e a resposta for limitada em magnitude, o sistema é considerado estável. A estabilidade pode ser ilustrada considerando um cone circular direito colocado em uma superfície horizontal plana:\n",
        "\n",
        "1.    Estável: Se o cone estiver descansando em sua base e for ligeiramente inclinado, ele retorna à sua posição de equilíbrio original.\n",
        "\n",
        "2.    Neutro: Se o cone estiver descansando de lado e for ligeiramente deslocado, ele rola sem tendência a deixar a posição de lado.\n",
        "\n",
        "1.    Instável: Se o cone estiver colocado em sua ponta e for liberado, ele cai para o lado."
      ],
      "metadata": {
        "id": "VgmJeP4_LkNT"
      }
    },
    {
      "cell_type": "markdown",
      "source": [
        "**Localização dos Polos no Plano-s**\n",
        "\n",
        "A localização dos polos da equação característica de um sistema no plano-s indica a resposta transitória resultante. Polos na porção esquerda do plano-s resultam em uma resposta decrescente para entradas de perturbação. Polos no eixo imaginário $jω$ e na porção direita do plano-s resultam em uma resposta neutra e crescente, respectivamente."
      ],
      "metadata": {
        "id": "HjTLBpD8LpHt"
      }
    },
    {
      "cell_type": "markdown",
      "source": [
        "**Exemplo de Feedback Positivo**\n",
        "\n",
        "Um exemplo comum do efeito potencialmente desestabilizador do feedback é o feedback em sistemas de amplificador de áudio e alto-falante usados para endereços públicos em auditórios. Se o microfone for colocado muito perto do alto-falante, o sistema se tornará instável, resultando em amplificação excessiva e distorção dos sinais de áudio."
      ],
      "metadata": {
        "id": "cgbD8VVJLq85"
      }
    },
    {
      "cell_type": "markdown",
      "source": [
        "**Estabilidade em Sistemas de Controle**\n",
        "A estabilidade de um sistema de controle pode ser definida em termos da localização dos polos da função de transferência em malha fechada. A função de transferência em malha fechada pode ser escrita como:\n",
        "\n",
        "<br>\n",
        "\n",
        "$$T(s) = \\frac{p(s)}{q(s)} = \\frac{K \\prod_{i=1}^{M} (s + z_i)}{s^N \\prod_{k=1}^{Q} (s + s_k) \\prod_{m=1}^{R} \\left[s^2 + 2a_m s + (a_m^2 + \\omega_m^2)\\right]}$$\n",
        "\n",
        "<br>\n",
        "\n",
        "Para obter uma resposta limitada, os polos do sistema em malha fechada devem estar na porção esquerda do plano-s. Um sistema é estável se todos os polos da função de transferência estiverem na porção esquerda do plano-s."
      ],
      "metadata": {
        "id": "GCQxL78ILs0f"
      }
    },
    {
      "cell_type": "markdown",
      "source": [
        "**Estabilidade Marginal**\n",
        "\n",
        "Se a equação característica tiver raízes simples no eixo imaginário $jω$ com todas as outras raízes na metade esquerda do plano-s, a saída em regime permanente será oscilações sustentadas para uma entrada limitada. Tal sistema é chamado de marginalmente estável."
      ],
      "metadata": {
        "id": "YGLKySVtLvCs"
      }
    },
    {
      "cell_type": "markdown",
      "source": [
        "**Métodos para Determinar a Estabilidade**\n",
        "\n",
        "Existem três abordagens principais para a questão da estabilidade:\n",
        "\n",
        "\n",
        "1.   Abordagem no Plano-s: Análise da localização dos polos no plano-s.\n",
        "\n",
        "2.   Abordagem na Frequência $jω$: Análise da resposta em frequência.\n",
        "\n",
        "3.   Abordagem no Domínio do Tempo: Análise da resposta no domínio do tempo."
      ],
      "metadata": {
        "id": "VEv4IPGWLxP7"
      }
    },
    {
      "cell_type": "markdown",
      "source": [
        "###6.2 - O Critério de Estabilidade de Routh-Hurwitz\n",
        "\n",
        "**Introdução**\n",
        "\n",
        "O critério de estabilidade de Routh-Hurwitz é uma ferramenta fundamental para determinar a estabilidade de sistemas lineares. Desenvolvido por A. Hurwitz e E. J. Routh no final do século XIX, este método analisa a equação característica do sistema para verificar se algum dos seus polos está no semiplano direito do plano s."
      ],
      "metadata": {
        "id": "NKcpajDBL4_Q"
      }
    },
    {
      "cell_type": "markdown",
      "source": [
        "**Equação Característica**\n",
        "\n",
        "A equação característica de um sistema linear é geralmente expressa como: $a_n s^n + a_{n-1} s^{n-1} + \\dots + a_1 s + a_0 = 0$\n",
        "\n",
        "<br>\n",
        "\n",
        "Para que o sistema seja estável, todos os polos (raízes da equação característica) devem estar no semiplano esquerdo do plano s."
      ],
      "metadata": {
        "id": "NYhKSYiNL8HI"
      }
    },
    {
      "cell_type": "markdown",
      "source": [
        "**Critério de Routh-Hurwitz**\n",
        "\n",
        "O critério de Routh-Hurwitz utiliza uma matriz, conhecida como matriz de Routh, para determinar a estabilidade do sistema. A matriz é construída a partir dos coeficientes da equação característica.\n",
        "\n",
        "**Construção da Matriz de Routh**\n",
        "\n",
        "A matriz de Routh é organizada da seguinte forma:\n",
        "\n",
        "\n",
        "*   Primeira linha: $a_n, a_{n-2}, a_{n-4}, \\dots$\n",
        "*   Segunda linha: $a_{n-1}, a_{n-3}, a_{n-5}, \\dots$\n",
        "\n",
        "<br>\n",
        "\n",
        "As linhas subsequentes são preenchidas utilizando a fórmula: $b_{n-1} = \\frac{a_{n-1} a_{n-2} - a_n a_{n-3}}{a_{n-1}}$\n",
        "\n"
      ],
      "metadata": {
        "id": "W6Hib2DIL9yn"
      }
    },
    {
      "cell_type": "markdown",
      "source": [
        "**Casos Especiais**\n",
        "\n",
        "Existem quatro casos distintos que devem ser considerados ao utilizar o critério de Routh-Hurwitz:\n",
        "\n",
        "1.   **Nenhum elemento na primeira coluna é zero:** O sistema é estável se não houver mudanças de sinal na primeira coluna da matriz de Routh.\n",
        "\n",
        "2.   **Um elemento na primeira coluna é zero, mas outros elementos na mesma linha não são zero:** Substitui-se o zero por um pequeno número positivo $P$ e completa-se a matriz.\n",
        "\n",
        "3.   **Todos os elementos de uma linha são zero:** Utiliza-se um polinômio auxiliar para continuar a análise.\n",
        "\n",
        "4.   **Raízes repetidas no eixo imaginário:** O sistema é marginalmente estável se as raízes no eixo imaginário não são repetidas. Se forem repetidas, o sistema é instável."
      ],
      "metadata": {
        "id": "ki338NgmL_sW"
      }
    },
    {
      "cell_type": "markdown",
      "source": [
        "**Exemplos**\n",
        "\n",
        "*   **Sistema de Segunda Ordem**: Para um polinômio de segunda ordem $a_2 s^2 + a_1 s + a_0$, a matriz de Routh é:\n",
        "\n",
        "$$a_2 \\quad a_0$$\n",
        "$$a_1 \\quad 0$$\n",
        "\n",
        "<br>\n",
        "\n",
        "O sistema é estável se todos os coeficientes forem positivos.\n",
        "\n",
        "<br>\n",
        "\n",
        "*  **Sistema de Terceira Ordem:** Para um polinômio de terceira ordem $a_3 s^3 + a_2 s^2 + a_1 s + a_0$, a matriz de Routh é:\n",
        "\n",
        "$$a_3 \\quad a_1 \\quad 0$$\n",
        "$$a_2 \\quad a_0 \\quad 0$$\n",
        "$$b_1 \\quad a_0 \\quad 0$$\n",
        "\n",
        "<br>\n",
        "\n",
        "onde $b_1 = \\frac{a_2 a_1 - a_0 a_3}{a_2}$.\n",
        "\n",
        "\n"
      ],
      "metadata": {
        "id": "gxPUbf7zMB6i"
      }
    },
    {
      "cell_type": "markdown",
      "source": [
        "###6.3 - A Estabilidade Relativa dos Sistemas de Controle de Feedback\n",
        "\n",
        "**Introdução**\n",
        "\n",
        "A verificação da estabilidade usando o critério de Routh-Hurwitz fornece apenas uma resposta parcial sobre a estabilidade de um sistema. Enquanto o critério de Routh-Hurwitz determina a estabilidade absoluta, é desejável também determinar a estabilidade relativa, que investiga o amortecimento relativo de cada raiz da equação característica."
      ],
      "metadata": {
        "id": "kP6GbLrNMEPV"
      }
    },
    {
      "cell_type": "markdown",
      "source": [
        "**Estabilidade Relativa**\n",
        "\n",
        "A estabilidade relativa de um sistema pode ser definida pela parte real relativa de cada raiz ou par de raízes. A estabilidade relativa também pode ser definida em termos dos coeficientes de amortecimento relativos de cada par de raízes complexas, influenciando a velocidade de resposta e o overshoot."
      ],
      "metadata": {
        "id": "2MqjNfiPMG1r"
      }
    },
    {
      "cell_type": "markdown",
      "source": [
        "**Método de Deslocamento do Eixo**\n",
        "\n",
        "Uma abordagem para determinar a estabilidade relativa é deslocar o eixo vertical no plano s, utilizando o critério de Routh-Hurwitz. Esse deslocamento é feito de forma que as raízes dominantes apareçam no eixo deslocado, permitindo determinar a parte real das raízes dominantes sem resolver explicitamente o polinômio de ordem superior."
      ],
      "metadata": {
        "id": "5x3fMTk1MJYU"
      }
    },
    {
      "cell_type": "markdown",
      "source": [
        "**Exemplo 6.6: Deslocamento do Eixo**\n",
        "\n",
        "Considere a equação característica de terceira ordem: $q(s) = s^3 + 4s^2 + 6s + 4$\n",
        "\n",
        "<br>\n",
        "\n",
        "Definindo a variável deslocada $s_n = s+1$, obtemos: $(s_n - 1)^3 + 4(s_n - 1)^2 + 6(s_n - 1) + 4 = s_n^3 + s_n^2 + s_n + 1$\n",
        "\n",
        "<br>\n",
        "\n",
        "A matriz de Routh é então estabelecida e analisada para determinar a estabilidade relativa.\n",
        "\n"
      ],
      "metadata": {
        "id": "71pv1fSJMLvd"
      }
    },
    {
      "cell_type": "markdown",
      "source": [
        "###6.4 - A Estabilidade dos Sistemas de Variáveis de Estado\n",
        "\n",
        "**Introdução**\n",
        "\n",
        "A estabilidade de um sistema modelado por variáveis de estado pode ser determinada utilizando o modelo de gráfico de fluxo de sinal ou o modelo de diagrama de blocos. A equação característica é obtida avaliando o determinante do gráfico de fluxo ou utilizando métodos de redução de diagrama de blocos."
      ],
      "metadata": {
        "id": "k14VNEGRMN32"
      }
    },
    {
      "cell_type": "markdown",
      "source": [
        "**Exemplo 6.7: Estabilidade de um Sistema de Segunda Ordem**\n",
        "\n",
        "Considere um sistema de segunda ordem descrito pelas equações diferenciais: $\\begin{cases}\n",
        "\\dot{x}_1 = -3x_1 + x_2 \\\\\n",
        "\\dot{x}_2 = x_2 - Kx_1 + Ku\n",
        "\\end{cases}$\n",
        "\n",
        "<br>\n",
        "\n",
        "O modelo de gráfico de fluxo de sinal e o modelo de diagrama de blocos são utilizados para obter a equação característica: $s^2 + 2s + (K - 3) = 0$\n",
        "\n",
        "<br>\n",
        "\n",
        "Para que o sistema seja estável, todos os coeficientes devem ser positivos, requerendo $K > 3$."
      ],
      "metadata": {
        "id": "VdnqMOe5MQDu"
      }
    },
    {
      "cell_type": "markdown",
      "source": [
        "**Método de Equação Diferencial Vetorial**\n",
        "\n",
        "A equação diferencial vetorial sem sinais de entrada é dada por: $\\dot{x} = Ax$\n",
        "\n",
        "\n",
        "A solução é da forma exponencial, e os valores característicos (autovalores) do sistema são as raízes da equação característica obtida do determinante: $\\det(\\lambda I - A) = 0$"
      ],
      "metadata": {
        "id": "BxBE5bQXMStF"
      }
    },
    {
      "cell_type": "markdown",
      "source": [
        "**Exemplo 6.8: Sistema Epidêmico Fechado**\n",
        "\n",
        "\n",
        "A equação diferencial vetorial do sistema epidêmico é dada por: $\\frac{dx}{dt} = \\begin{bmatrix}\n",
        "-a & b & a \\\\\n",
        "-b & -g & g \\\\\n",
        "0 & 0 & 0\n",
        "\\end{bmatrix} x$\n",
        "\n",
        "<br>\n",
        "\n",
        "A equação característica é então: $\\lambda \\left(\\lambda^2 + (a + g)\\lambda + (ag + b^2)\\right) = 0$\n",
        "\n",
        "<br>\n",
        "\n",
        "O sistema é marginalmente estável quando $a + g > 0 \\quad \\text{e} \\quad ag + b^2 > 0$"
      ],
      "metadata": {
        "id": "wa-syL5bMUjU"
      }
    },
    {
      "cell_type": "markdown",
      "source": [
        "###6.5 - Exemplos de Projeto\n",
        "\n",
        "**Introdução**\n",
        "\n",
        "Este subcapítulo apresenta dois exemplos ilustrativos de problemas de controle, abordando questões de estabilidade utilizando o critério de Routh-Hurwitz. Os exemplos destacam a seleção de parâmetros do sistema e a análise de estabilidade durante o processo de design."
      ],
      "metadata": {
        "id": "v4ryqGr9MXI4"
      }
    },
    {
      "cell_type": "markdown",
      "source": [
        "**Exemplo 6.9: Controle de Direção de um Veículo com Esteiras**"
      ],
      "metadata": {
        "id": "MjaoBl6sMZjl"
      }
    },
    {
      "cell_type": "markdown",
      "source": [
        "O projeto de um controle de direção para um veículo com esteiras envolve a seleção de dois parâmetros, $K \\;\\; e \\;\\; a$, para garantir a estabilidade do sistema e um erro em regime permanente para um comando de rampa menor ou igual a 24% da magnitude do comando.\n",
        "\n",
        "**Equação Característica**\n",
        "\n",
        "A equação característica do sistema de feedback é: $1 + G_c G(s) = 0$\n",
        "\n",
        "<br>\n",
        "\n",
        "Substituindo os componentes do sistema, obtemos: $s^4 + 8s^3 + 17s^2 + (K + 10)s + Ka = 0$\n",
        "\n",
        "<br>\n",
        "\n",
        "\n",
        "**Matriz de Routh**\n",
        "\n",
        "Para determinar a região estável para  $K \\;\\; e \\;\\; a$, estabelecemos a matriz de Routh:\n",
        "\n",
        "<br>\n",
        "\n",
        "$$\\begin{array}{c|cccc}\n",
        "s^4 & 1 & 17 & Ka \\\\\n",
        "s^3 & 8 & K + 10 & 0 \\\\\n",
        "s^2 & b_3 & c_3 & 0 \\\\\n",
        "s^1 & K & 0 & 0 \\\\\n",
        "s^0 & a & 0 & 0 \\\\\n",
        "\\end{array}$$\n",
        "\n",
        "<br>\n",
        "\n",
        "Onde: $b_3 = \\frac{126 - K}{8} \\quad e \\quad c_3 = \\frac{(K + 10)(126 - K) - 64Ka}{126 - K}$\n",
        "\n",
        "<br>\n",
        "\n",
        "Para que os elementos da primeira coluna sejam positivos, requeremos que $K, a, b_3, \\;\\; e \\;\\; c_3$ sejam positivos. A região de estabilidade é determinada por: $K < 126, \\quad Ka > 0, \\quad (K + 10)(126 - K) - 64Ka > 0$\n",
        "\n",
        "<br>\n",
        "\n",
        "**Seleção de Parâmetros**\n",
        "\n",
        "A região de estabilidade para $K>0$ é mostrada na Figura 6.9 do livro. Por exemplo, selecionando $K=70 \\;\\; e \\;\\; a=0.6$, obtemos uma solução estável. Outra combinação aceitável seria $K=50 \\;\\; e \\;\\; a=0.84.$"
      ],
      "metadata": {
        "id": "hH4qy7O9MbgM"
      }
    },
    {
      "cell_type": "markdown",
      "source": [
        "![Figure 6.9.png](data:image/png;base64,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)"
      ],
      "metadata": {
        "id": "zyVY8_AvMf5g"
      }
    },
    {
      "cell_type": "markdown",
      "source": [
        "**Exemplo 6.10: Motocicleta Controlada por Robô**"
      ],
      "metadata": {
        "id": "qcTR5wAVMmZF"
      }
    },
    {
      "cell_type": "markdown",
      "source": [
        "Este exemplo considera uma motocicleta controlada por robô que se move em linha reta a uma velocidade constante $v$. O objetivo é controlar a posição vertical da motocicleta e manter a posição prescrita na presença de distúrbios.\n",
        "\n",
        "**Modelo da Motocicleta**\n",
        "\n",
        "O modelo da motocicleta é dado por: $G(s) = \\frac{1}{s^2 - a_1}$\n",
        "\n",
        "<br>\n",
        "\n",
        "Onde $a_1 = \\frac{h}{g}, \\quad g = 9.806 \\, \\text{m/s}^2 \\quad \\text{e} \\quad h \\;$ é a altura do centro de gravidade da motocicleta.\n",
        "\n",
        "<br>\n",
        "\n",
        "\n",
        "**Controlador**\n",
        "\n",
        "O controlador é dado por: $G_c(s) = \\frac{a_2 + a_3 s}{ts + 1}$\n",
        "\n",
        "<br>\n",
        "\n",
        "Onde $a_2 = \\frac{h c^2}{v^2} \\quad a_3 = \\frac{v L}{h c^2}.$\n",
        "\n",
        "<br>\n",
        "\n",
        "**Análise de Estabilidade**\n",
        "\n",
        "A função de transferência em malha fechada é: $T(s) = \\frac{a_2 + a_3 s}{\\Delta(s)}$\n",
        "\n",
        "<br>\n",
        "\n",
        "Onde: $\\Delta(s) = ts^3 + (1 + K_D a_3)s^2 + (K_D a_2 + K_P a_3 - t a_1)s + (K_P a_2 - a_1)$\n",
        "\n",
        "<br>\n",
        "\n",
        "A matriz de Routh é estabelecida para determinar os valores de $K_P \\;\\; e \\;\\; K_D$ que garantem a estabilidade do sistema. A análise revela que para $K_D > 0 \\quad \\text{e} \\quad K_P > \\frac{a_1}{a_2}$, o sistema é estável.\n",
        "\n",
        "<br>\n",
        "\n",
        "**Seleção de Ganhos**\n",
        "\n",
        "Selecionando $K_P = 10 \\;\\; \\text{e} \\;\\; K_D = 5 $, obtemos um sistema estável com polos em $s_1 = -35.2477 \\;\\; \\text{e} \\;\\; s_2 = -2.4674 \\;\\; \\text{e} \\;\\; s_3 = -1.0348$ .A resposta a um distúrbio de degrau mostra que o sistema mantém a motocicleta estável, embora inclinada em aproximadamente 3.18 graus.\n",
        "\n"
      ],
      "metadata": {
        "id": "5oS5OYCqMn9F"
      }
    },
    {
      "cell_type": "markdown",
      "source": [
        "###6.6 - Estabilidade do Sistema Usando Software de Projeto de Controle\n",
        "\n",
        "**Introdução**\n",
        "\n",
        "Nesta seção, veremos como o computador pode auxiliar na análise de estabilidade, fornecendo um método fácil e preciso para calcular os polos da equação característica. Para equações características como função de um único parâmetro, é possível gerar um gráfico mostrando o movimento dos polos conforme o parâmetro varia."
      ],
      "metadata": {
        "id": "YAl94RlcMzFG"
      }
    },
    {
      "cell_type": "markdown",
      "source": [
        "**Critério de Routh-Hurwitz**\n",
        "\n",
        "O critério de Routh-Hurwitz é um critério necessário e suficiente para a estabilidade. Dada uma equação característica com coeficientes fixos, podemos usar Routh-Hurwitz para determinar o número de raízes no semiplano direito.\n",
        "\n",
        "**Exemplo de Equação Característica**\n",
        "\n",
        "Considere a equação característica: $q(s) = s^3 + s^2 + 2s + 24 = 0$\n",
        "\n",
        "<br>\n",
        "\n",
        "A matriz de Routh-Hurwitz correspondente é:\n",
        "\n",
        "\\begin{array}{c}\n",
        "s^3 & 1 & 1 & -22 & 24 \\\\\n",
        "s^2 & 2 & 24 & 0\n",
        "\\end{array}\n",
        "\n",
        "<br>\n",
        "\n",
        "As duas mudanças de sinal na primeira coluna indicam que há duas raízes no semiplano direito, tornando o sistema instável."
      ],
      "metadata": {
        "id": "ATlQxU3fM2tP"
      }
    },
    {
      "cell_type": "markdown",
      "source": [
        "**Uso de Software para Análise de Estabilidade**\n",
        "\n",
        "Podemos verificar o resultado de Routh-Hurwitz calculando diretamente as raízes da equação característica usando funções de software de controle, como a função pole."
      ],
      "metadata": {
        "id": "KTDZFeRNM48y"
      }
    },
    {
      "cell_type": "markdown",
      "source": [
        "**Exemplo 6.11: Controle de Veículo com Esteiras**\n",
        "\n",
        "O diagrama de blocos do sistema de controle para o veículo com esteiras é mostrado na Figura 6.8 do livro. O objetivo do projeto é encontrar $a \\;\\; e \\;\\; K$ de modo que o sistema seja estável e o erro em regime permanente para uma entrada de rampa seja menor ou igual a 24% do comando.\n",
        "\n",
        "A equação característica em malha fechada é: $q(s) = s^4 + 8s^3 + 17s^2 + (K + 10)s + aK = 0$\n",
        "\n",
        "<br>\n",
        "\n",
        "Usando a matriz de Routh, encontramos que, para estabilidade, requeremos: $K < 126, \\quad 126 - K > 0, \\quad (K + 10)(126 - K) - 64aK > 0, \\quad aK > 0$"
      ],
      "metadata": {
        "id": "JZ1XkT_DM7DV"
      }
    },
    {
      "cell_type": "markdown",
      "source": [
        "![Figure 6.8.png](data:image/png;base64,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)"
      ],
      "metadata": {
        "id": "awp1DsA1M9-e"
      }
    },
    {
      "cell_type": "markdown",
      "source": [
        "**Análise Gráfica**\n",
        "\n",
        "\n",
        "Podemos usar o software para encontrar a região de estabilidade para $a \\;\\; e \\;\\; K$. Selecionamos um intervalo de valores para $a \\;\\; e \\;\\; K$ e calculamos as raízes do polinômio característico para valores específicos de $a \\;\\; e \\;\\; K$. O gráfico resultante define a separação entre as regiões estável e instável."
      ],
      "metadata": {
        "id": "uIDTcxIqNCCw"
      }
    },
    {
      "cell_type": "markdown",
      "source": [
        "**Exemplo de Simulação**\n",
        "\n",
        "\n",
        "Para $a = 0.6 \\;\\; \\text{e} \\;\\; K = 70$, a função de transferência em malha fechada é: $\\; T(s) = \\frac{70s + 42}{s^4 + 8s^3 + 17s^2 + 80s + 42}$\n",
        "\n",
        "<br>\n",
        "\n",
        "Os polos associados em malha fechada são: $s = -7.0767, \\quad s = -0.5781, \\quad s = -0.1726 \\pm 3.1995i$\n",
        "\n",
        "<br>\n",
        "\n",
        "A resposta a uma entrada de rampa unitária mostra que o erro em regime permanente é menor que 0.24, conforme desejado."
      ],
      "metadata": {
        "id": "SddqN6nfNEBZ"
      }
    },
    {
      "cell_type": "markdown",
      "source": [
        "###6.7 - Exemplo de Projeto Sequencial: Sistema de Leitura de Disco Rígido\n",
        "\n",
        "**Introdução**\n",
        "\n",
        "Neste subcapítulo, examinaremos a estabilidade do sistema de leitura de disco rígido à medida que o ganho $K_a$ é ajustado e, em seguida, reconfiguraremos o sistema. O sistema é inicialmente considerado com a chave aberta e, posteriormente, com a chave fechada para incluir o feedback de velocidade."
      ],
      "metadata": {
        "id": "YvxcsXl1NIaG"
      }
    },
    {
      "cell_type": "markdown",
      "source": [
        "**Sistema com Chave Aberta**\n",
        "\n",
        "Quando a chave está aberta, a função de transferência em malha fechada é: $\\frac{Y(s)}{R(s)} = \\frac{K_a G_1(s) G_2(s)}{1 + K_a G_1(s) G_2(s)}$\n",
        "\n",
        "<br>\n",
        "\n",
        "Onde: $G_1(s) = \\frac{5000}{s + 1000} \\quad G_2(s) = \\frac{1}{s(s + 20)}$\n",
        "\n",
        "<br>\n",
        "\n",
        "A equação característica é: $s^3 + 1020s^2 + 20000s + 5000K_a = 0$\n",
        "\n",
        "<br>\n",
        "\n",
        "A matriz de Routh é:\n",
        "$$\\begin{array}{c}\n",
        "s^3 & 1 & 20000 & 1020 & 5000K_a \\\\\n",
        "s^2 & b_1 & 5000K_a\n",
        "\\end{array}$$\n",
        "\n",
        "\n",
        "<br>\n",
        "\n",
        "Onde: $b_1 = \\frac{(20000)(1020) - 5000K_a}{1020}$\n",
        "\n",
        "<br>\n",
        "\n",
        "Para estabilidade, $K_a$ deve ser menor que 4080. Quando $K_a = 4080$, o sistema é marginalmente estável com raízes no eixo imaginário $s = \\pm j141.4$"
      ],
      "metadata": {
        "id": "bmtDw-afNKq0"
      }
    },
    {
      "cell_type": "markdown",
      "source": [
        "**Sistema com Feedback de Velocidade (Chave Fechada)**\n",
        "\n",
        "\n",
        "Quando a chave está fechada, a função de transferência em malha fechada é: $\\frac{Y(s)}{R(s)} = \\frac{K_a G_1(s) G_2(s)}{1 + K_a G_1(s) G_2(s)}$\n",
        "\n",
        "<br>\n",
        "\n",
        "A equação característica é: $s(s + 20)(s + 1000) + 5000K_a (1 + K_1 s) = 0$\n",
        "\n",
        "<br>\n",
        "\n",
        "Ou: $s^3 + 1020s^2 + (20000 + 5000K_a K_1)s + 5000K_a = 0$\n",
        "\n",
        "<br>\n",
        "\n",
        "A matriz de Routh é:\n",
        "\n",
        "$$\\begin{array}{c}\n",
        "s^3 & 1 & 20000 + 5000K_aK_1 & 1020 & 5000K_a \\\\\n",
        "s^2 & b_1 & 5000K_a\n",
        "\\end{array}$$\n",
        "\n",
        "<br>\n",
        "\n",
        "Onde: $b_1 = 1020\\frac{(20000 + 5000K_aK_1) - 5000K_a}{1020}$\n",
        "\n",
        "<br>\n",
        "\n",
        "Para garantir a estabilidade, é necessário selecionar $K_a \\;\\; e \\;\\; K_1$ de modo que $K_1 >0 \\;\\; e \\;\\; K_a >0.$ Por exemplo, com $K_1 = 0.05 \\;\\; e \\;\\; K_a = 100$, o tempo de acomodação é aproximadamente 260 ms e o overshoot percentual é 0%.\n"
      ],
      "metadata": {
        "id": "OFw4JLsoNN0D"
      }
    },
    {
      "cell_type": "markdown",
      "source": [
        "**Resumo do Desempenho**\n",
        "\n",
        "A Tabela 6.3 do livro resume o desempenho do sistema de leitura de disco rígido em comparação com as especificações desejadas:\n",
        "\n",
        "*   Overshoot Percentual: Menor que 5% (Resposta atual: 0%)\n",
        "*   Tempo de Acomodação: Menor que 250 ms (Resposta atual: 260 ms)\n",
        "*   Resposta Máxima a uma Perturbação Unitária: Menor que $5 \\times 10^{-3}$  (Resposta atual: $2 \\times 10^{-3}$)"
      ],
      "metadata": {
        "id": "vRbDXB9PNPxE"
      }
    },
    {
      "cell_type": "markdown",
      "source": [
        "![table 6.3.png](data:image/png;base64,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)"
      ],
      "metadata": {
        "id": "-eRTzf4GNnF9"
      }
    }
  ]
}