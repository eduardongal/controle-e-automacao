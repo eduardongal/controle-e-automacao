{
  "nbformat": 4,
  "nbformat_minor": 0,
  "metadata": {
    "colab": {
      "provenance": []
    },
    "kernelspec": {
      "name": "python3",
      "display_name": "Python 3"
    },
    "language_info": {
      "name": "python"
    }
  },
  "cells": [
    {
      "cell_type": "markdown",
      "source": [
        "## Capítulo 4: Características do Sistema de Controle de Feedback"
      ],
      "metadata": {
        "id": "NulBbbaVj5UX"
      }
    },
    {
      "cell_type": "markdown",
      "source": [
        "4.1 - Introdução\n",
        "\n",
        "4.2 - Análise de Sinal de Erro\n",
        "\n",
        "4.3 - Sensibilidade dos Sistemas de Controle às Variações de Parâmetros\n",
        "\n",
        "4.4 - Sinais de Perturbação em um Sistema de Controle de Feedback\n",
        "\n",
        "4.5 - Controle da Resposta Transitória\n",
        "\n",
        "4.6 - Erro de Estado Estacionário\n",
        "\n",
        "4.7 - O Custo do Feedback\n",
        "\n",
        "4.8 - Exemplos de Projeto\n",
        "\n",
        "4.9 - Características do Sistema de Controle Usando Software de Projeto de Controle\n",
        "\n",
        "4.10 - Exemplo de Projeto Sequencial: Sistema de Leitura de Disco Rígido"
      ],
      "metadata": {
        "id": "K5pAVTN1kJ6p"
      }
    },
    {
      "cell_type": "markdown",
      "source": [
        "###4.1 Introdução"
      ],
      "metadata": {
        "id": "uJkfiQQokRLU"
      }
    },
    {
      "cell_type": "markdown",
      "source": [
        "Um sistema de controle é definido como uma interconexão de componentes que formam um sistema para fornecer uma resposta desejada. Quando a resposta desejada é conhecida, um sinal proporcional ao erro entre a resposta desejada e a resposta real é gerado. Esse sinal é usado para controlar o processo, resultando em uma sequência de operações em malha fechada, chamada de sistema de feedback."
      ],
      "metadata": {
        "id": "ugDa-E8WkUwN"
      }
    },
    {
      "cell_type": "markdown",
      "source": [
        "**Tipos básicos de sistemas de controle:**"
      ],
      "metadata": {
        "id": "kGYMjnLfkajX"
      }
    },
    {
      "cell_type": "markdown",
      "source": [
        "* **Sistema em malha aberta (Open-loop)**\n",
        "\n",
        "  Um sistema de malha aberta, ou um sistema sem feedback, é altamente sensível a distúrbios e variações nos parâmetros do processo. Se o sistema de malha aberta não fornecer uma resposta satisfatória, um controlador em cascata pode ser inserido antes do processo para ajustar a função de transferência e obter a resposta transitória desejada. Isso é conhecido como controle de malha aberta. lembrando que esse sistema opera sem realimentação."
      ],
      "metadata": {
        "id": "slsI1SlMkgU1"
      }
    },
    {
      "cell_type": "markdown",
      "source": [
        "* **Sistema em malha fechada (Closed-loop)**\n",
        "\n",
        " Um sistema de controle por feedback de malha fechada usa uma medição do sinal de saída e uma comparação com a saída desejada para gerar um sinal de erro, que é usado pelo controlador para ajustar o atuador. Esse sistema é menos sensível a variações nos parâmetros do processo e a distúrbios, além de melhorar a atenuação do ruído de medição e reduzir o erro em regime permanente."
      ],
      "metadata": {
        "id": "Komn-OuNkisF"
      }
    },
    {
      "cell_type": "markdown",
      "source": [
        "**Vantagens do Controle por Feedback**\n",
        "\n",
        "  Apesar do custo e da complexidade aumentada, o controle por feedback de malha fechada oferece várias vantagens:\n",
        "\n",
        "*   Diminuição da sensibilidade do sistema a variações nos parâmetros do processo.\n",
        "*   Melhora na rejeição de distúrbios.\n",
        "*   Melhora na atenuação do ruído de medição.\n",
        "*   Redução do erro em regime permanente.\n",
        "*   Facilidade de controle e ajuste da resposta transitória do sistema."
      ],
      "metadata": {
        "id": "qDxu-wvpkl1a"
      }
    },
    {
      "cell_type": "markdown",
      "source": [
        "###4.2 Análise de Sinal de Erro"
      ],
      "metadata": {
        "id": "yCd78DtSkmgN"
      }
    },
    {
      "cell_type": "markdown",
      "source": [
        "O sistema de controle por feedback de malha fechada possui três entradas: $R(s), T_d(s)%$ e $N(s)$, e uma saída $Y(s)$. Os sinais $T_d(s)$ e $N(s)$  representam, respectivamente, os distúrbios e o ruído de medição. O erro de rastreamento é definido como $E(s) = R(s) - Y(s).$"
      ],
      "metadata": {
        "id": "8GJc-6D7kyDX"
      }
    },
    {
      "cell_type": "markdown",
      "source": [
        "**Sistema de Feedback Unitário**\n",
        "\n",
        "Considera-se um sistema de feedback unitário, onde $H(s) = 1$. Após manipulações no diagrama de blocos, a saída é dada por:\n",
        "\n",
        "$$Y(s) = \\frac{G_c(s) G(s)}{1 + G_c(s) G(s)} R(s) + \\frac{G(s)}{1 + G_c(s) G(s) T_d(s)} -  \\frac{G_c(s) G(s)}{1 + G_c(s) G(s)} N(s)$$"
      ],
      "metadata": {
        "id": "0WbBLCnEk0w3"
      }
    },
    {
      "cell_type": "markdown",
      "source": [
        "**Erro de Rastreamento**\n",
        "\n",
        "Com $E(s) = R(s) - Y(s)$, temos:\n",
        "\n",
        "$$Y(s) = \\frac{1}{1 + G_c(s) G(s)} R(s) + \\frac{G(s)}{1 + G_c(s) G(s) T_d(s)} -  \\frac{G_c(s) G(s)}{1 + G_c(s) G(s)} N(s)$$"
      ],
      "metadata": {
        "id": "bXF1gx2tk26s"
      }
    },
    {
      "cell_type": "markdown",
      "source": [
        "**Função de Ganho de Malha**\n",
        "\n",
        "Definimos a função de ganho de malha como $L(s) = G_c(s) G(s)$. Assim, o erro de rastreamento é dado por:\n",
        "\n",
        "\n",
        "$$E(s) = \\frac{1}{1 + L(s)} R(s) + \\frac{G(s)}{1 + L(s)} + \\frac{L(s)}{1 + L(s)} N(s)$$"
      ],
      "metadata": {
        "id": "0bAoraqek7jO"
      }
    },
    {
      "cell_type": "markdown",
      "source": [
        "**Funções de Sensibilidade**\n",
        "\n",
        "Definimos a função de sensibilidade\n",
        "$S(s)$ e a função de sensibilidade complementar $C(s)$ como:\n",
        "\n",
        "\n",
        "$$S(s) = \\frac{1}{1 + L(s)}$$\n",
        "\n",
        "<br>\n",
        "\n",
        "$$C(s) = \\frac{L(s)}{1 + L(s)}$$"
      ],
      "metadata": {
        "id": "bz0I_ZqSk9wD"
      }
    },
    {
      "cell_type": "markdown",
      "source": [
        "**Análise do Erro de Rastreamento**\n",
        "\n",
        "O erro de rastreamento pode ser reescrito como:\n",
        "\n",
        "$$E(s)=S(s)R(s)−S(s)G(s)T_d(s)+C(s)N(s)$$\n",
        "\n",
        "$\n",
        "\\\n",
        "$\n",
        "\n",
        "Para minimizar o erro de rastreamento, desejamos que $S(s)$ e $C(s)$ sejam pequenos. No entanto, existe a relação $S(s)+C(s)=1$, o que implica que não podemos minimizar ambos simultaneamente, exigindo compromissos no projeto."
      ],
      "metadata": {
        "id": "UKBX3pDSlAeP"
      }
    },
    {
      "cell_type": "markdown",
      "source": [
        "**Magnitude das Funções de Transferência**\n",
        "\n",
        "Para reduzir a influência dos distúrbios $T_d(s)$ no erro de rastreamento, $L(s)$ deve ser grande nas frequências dos distúrbios. Para atenuar o ruído de medição $N(s), L(s)$ deve ser pequeno nas frequências do ruído. Isso pode ser alcançado projetando $G_c(s)$ para ter uma magnitude grande em baixas frequências (distúrbios) e pequena em altas frequências (ruído de medição).\n"
      ],
      "metadata": {
        "id": "1PgRCGAflFSC"
      }
    },
    {
      "cell_type": "markdown",
      "source": [
        "###4.3 Sensibilidade dos Sistemas de Controle às Variações de Parâmetros"
      ],
      "metadata": {
        "id": "ql0J-hiplJvl"
      }
    },
    {
      "cell_type": "markdown",
      "source": [
        "**Introdução**\n",
        "\n",
        "Os processos representados pela função de transferência $G(s)$ estão sujeitos a mudanças no ambiente, envelhecimento, incertezas nos valores exatos dos parâmetros do processo e outros fatores que afetam o controle. Em um sistema de malha aberta, esses erros e mudanças resultam em uma saída imprecisa. No entanto, um sistema de malha fechada detecta a mudança na saída devido às alterações no processo e tenta corrigir a saída"
      ],
      "metadata": {
        "id": "ctHQvwTwlQEv"
      }
    },
    {
      "cell_type": "markdown",
      "source": [
        "Uma das principais vantagens dos sistemas de controle em malha fechada é sua capacidade de reduzir a sensibilidade do sistema a variações nos parâmetros do processo."
      ],
      "metadata": {
        "id": "HHth3TH0lSVT"
      }
    },
    {
      "cell_type": "markdown",
      "source": [
        "**Redução da Sensibilidade**\n",
        "\n",
        "Se o processo $G(s)$ sofrer uma mudança, tal que o modelo real do processo seja $G(s)+\\Delta G(s)$, a mudança no erro de rastreamento $\\Delta E(s)$ é reduzida pelo fator $1+L(s)$, onde $L(s)=G_c(s)G(s)$. Para grandes valores de $L(s)$, temos $1+L(s)≈L(s)$, e a mudança no erro de rastreamento pode ser aproximada por\n",
        "\n",
        "$$\\Delta E(s) ≈ \\frac{\\Delta G(s)}{L(s)G(s)}R(s)$$"
      ],
      "metadata": {
        "id": "1PGXeKzglUoS"
      }
    },
    {
      "cell_type": "markdown",
      "source": [
        "**Definição de Sensibilidade**\n",
        "\n",
        "A sensibilidade do sistema de malha aberta às mudanças no processo $G(s)$ é igual a 1. A sensibilidade do sistema de malha fechada é dada por:\n",
        "\n",
        "\n",
        "$$S^T_G = \\frac{1}{1 + G_c(s)G(s)}$$"
      ],
      "metadata": {
        "id": "tUT8CTohlWtN"
      }
    },
    {
      "cell_type": "markdown",
      "source": [
        "**Funções de Sensibilidade**\n",
        "\n",
        "Definimos a função de sensibilidade\n",
        "$S(s)$ e a função de sensibilidade complementar $C(s)$ como:\n",
        "\n",
        "\n",
        "$$S(s) = \\frac{1}{1 + L(s)}$$\n",
        "\n",
        "$\n",
        "\\\n",
        "$\n",
        "\n",
        "$$C(s) = \\frac{L(s)}{1 + L(s)}$$"
      ],
      "metadata": {
        "id": "-LbWHB1KlYpv"
      }
    },
    {
      "cell_type": "markdown",
      "source": [
        "**Exemplo: Amplificador com Feedback**\n",
        "\n",
        "Um amplificador com ganho $-K_a$ pode ter feedback adicionado usando um potenciômetro $R_p$. A função de transferência do amplificador sem feedback é $T(s) = -K_a$, e a sensibilidade às mudanças no ganho do amplificador é $S^{T}_{K_a} = 1$. Com feedback, a função de transferência é:\n",
        "\n",
        "$$T(s) = \\frac{-K_a}{1 + K_a\\beta}$$\n",
        "\n",
        "$\n",
        "\\\n",
        "$\n",
        "\n",
        "Se $K_a$  for grande, a sensibilidade é baixa. Por exemplo, se $K_a = 10^4$ e $\\beta = 0.1$, temos  $S^{T}_{K_a} ≈ \\frac{1}{1000}$, ou seja, a magnitude é mil vezes menor que a do amplificador de malha aberta."
      ],
      "metadata": {
        "id": "ssVC9q2lla02"
      }
    },
    {
      "cell_type": "markdown",
      "source": [],
      "metadata": {
        "id": "CepV9GnJldfh"
      }
    },
    {
      "cell_type": "markdown",
      "source": [
        "###4.4 Sinais de Perturbação em um Sistema de Controle de Feedback"
      ],
      "metadata": {
        "id": "2O6HQSp0lvj6"
      }
    },
    {
      "cell_type": "markdown",
      "source": [
        "**Introdução**\n",
        "\n",
        "Muitos sistemas de controle estão sujeitos a sinais de perturbação que causam uma saída imprecisa. Amplificadores eletrônicos têm ruído inerente gerado dentro dos circuitos integrados ou transistores; antenas de radar são submetidas a rajadas de vento; e muitos sistemas geram sinais de distorção indesejados devido a elementos não lineares. Um efeito importante do feedback em um sistema de controle é a redução do efeito desses sinais de perturbação."
      ],
      "metadata": {
        "id": "1Y3ZeTNalzag"
      }
    },
    {
      "cell_type": "markdown",
      "source": [
        "**Rejeição de Perturbações**\n",
        "\n",
        "\n",
        "Quando $R(s) = N(s) = 0$, o erro de rastreamento $E(s)$ é dado por:\n",
        "\n",
        "$$E(s) = -S(s)G(s)T_d(s) = \\frac{G(s)}{1+L(s)}T_d(s)$$\n",
        "\n",
        "Para um $G(s)$ fixo e um $T_d(s)$ dado, à medida que o ganho de malha $L(s)$ aumenta, o efeito de $T_d(s)$ no erro de rastreamento diminui. no erro de rastreamento diminui. Portanto, um grande ganho de malha leva a uma boa rejeição de perturbações, especialmente em baixas frequências, onde os sinais de perturbação são mais comuns."
      ],
      "metadata": {
        "id": "plLp3pm4l12k"
      }
    },
    {
      "cell_type": "markdown",
      "source": [
        "**Exemplo: Controle de Velocidade em um Laminador de Aço**\n",
        "\n",
        "No controle de velocidade de um laminador de aço, os rolos são submetidos a grandes mudanças de carga ou perturbações. Quando uma barra de aço se aproxima dos rolos, a carga nos rolos aumenta imediatamente. Esse efeito de carga pode ser aproximado por uma mudança de degrau no torque de perturbação."
      ],
      "metadata": {
        "id": "54EyGNBpl3-m"
      }
    },
    {
      "cell_type": "markdown",
      "source": [
        "**Sistema de Controle de Velocidade em Malha Aberta**\n",
        "\n",
        "Para o sistema de controle de velocidade em malha aberta, a mudança na velocidade devido à perturbação de carga é:\n",
        "<br><br>\n",
        "\n",
        "$$E(s) = -v(s) = \\frac{1}{Js + b + \\frac{K_m K_b}{R_a}} T_d(s)$$\n",
        "\n",
        "O erro em regime permanente devido ao torque de carga é encontrado usando o teorema do valor final:\n",
        "<br><br>\n",
        "\n",
        "$$\\lim_{t \\to \\infty} E(t) = \\lim_{s \\to 0} sE(s) = \\frac{D}{b + \\frac{K_m K_b}{R_a}}$$"
      ],
      "metadata": {
        "id": "xC84iWfrl6aS"
      }
    },
    {
      "cell_type": "markdown",
      "source": [
        "**Sistema de Controle de Velocidade em Malha Fechada**\n",
        "\n",
        "No sistema de controle de velocidade em malha fechada, o erro $E(s)$ é:\n",
        "\n",
        "$$E(s) = -v(s) = \\frac{G_2(s)}{1 + G_1(s)G_2(s)H(s)} T_d(s)$$\n",
        "\n",
        "<br><br>\n",
        "Se $G_1G_2H(s)$ for muito maior que 1, obtemos:\n",
        "<br><br>\n",
        "\n",
        " $$E(s) ≈ \\frac{1}{1 + G_1(s)H(s)} T_d(s)$$\n",
        "\n",
        " Portanto, se $G_1(s)H(s)$ for suficientemente grande, o efeito da perturbação pode ser reduzido pelo feedback em malha fechada."
      ],
      "metadata": {
        "id": "1KFapjQbl85f"
      }
    },
    {
      "cell_type": "markdown",
      "source": [
        "**Atenuação de Ruído de Medição**\n",
        "\n",
        "Quando $R(s) = T_d(s) = 0$, o erro de rastreamento $E(s)$ é dado por:\n",
        "<br><br>\n",
        "\n",
        "$$E(s) = C(s)N(s) = \\frac{1 + L(s)}{L(s)} N(s)$$\n",
        "\n",
        "<br>\n",
        "\n",
        "À medida que o ganho de malha $L(s)$ diminui, o efeito de $N(s)$ no erro de rastreamento diminui. Portanto, um pequeno ganho de malha leva a uma boa atenuação de ruído de medição, especialmente em altas frequências, onde os sinais de ruído de medição são mais comuns."
      ],
      "metadata": {
        "id": "3uuov0dgl_Ts"
      }
    },
    {
      "cell_type": "markdown",
      "source": [],
      "metadata": {
        "id": "yN4fmMlnmBd2"
      }
    },
    {
      "cell_type": "markdown",
      "source": [
        "###4.5 Controle da Resposta Transitória"
      ],
      "metadata": {
        "id": "THLT-pYcmGxm"
      }
    },
    {
      "cell_type": "markdown",
      "source": [
        "**Introdução**\n",
        "\n",
        "Uma das características mais importantes dos sistemas de controle é a resposta transitória, que é a resposta de um sistema em função do tempo antes de atingir o estado estacionário. O objetivo dos sistemas de controle é fornecer uma resposta desejada, e muitas vezes a resposta transitória deve ser ajustada até que seja satisfatória."
      ],
      "metadata": {
        "id": "NtIfJKxumKqn"
      }
    },
    {
      "cell_type": "markdown",
      "source": [
        "**Ajuste da Resposta Transitória**\n",
        "\n",
        "Se um sistema de controle em malha aberta não fornecer uma resposta satisfatória, a função de transferência da malha, $G_c(s)G(s)$, deve ser ajustada. Considere um sistema de controle de velocidade que pode operar em modo aberto ou fechado."
      ],
      "metadata": {
        "id": "M0C1VNBvmN1G"
      }
    },
    {
      "cell_type": "markdown",
      "source": [
        "**Sistema de Controle de Velocidade em Malha Aberta**\n",
        "\n",
        "A função de transferência do sistema de malha aberta (sem feedback) é dada por:\n",
        "\n",
        "$$\\frac{v(s)}{V_a(s)} = G(s) = \\frac{K_1}{ \\tau_1 s + 1}$$"
      ],
      "metadata": {
        "id": "pSNT0c8emRIS"
      }
    },
    {
      "cell_type": "markdown",
      "source": [
        "**Resposta Transitória em Malha Aberta**\n",
        "\n",
        "Se os rolos de aço forem submetidos a um comando de degrau $R(s) = \\frac{k_2 E}{s}$, a resposta de saída do sistema de malha aberta é:\n",
        "\n",
        "$$v(t) = K_a K_1 K_2 E(1 - e^{-t/\\tau_1})$$\n",
        "\n",
        "<br>\n",
        "\n",
        "Se essa resposta transitória for muito lenta, pode ser necessário escolher outro motor com uma constante de tempo diferente $\\tau_1$. No entanto, como $\\tau_1$ é dominada pela inércia da carga $J$, pode não ser possível alterar significativamente a resposta transitória."
      ],
      "metadata": {
        "id": "cqaJbVfLmRvF"
      }
    },
    {
      "cell_type": "markdown",
      "source": [
        "**Sistema de Controle de Velocidade em Malha Fechada**\n",
        "\n",
        "Um sistema de controle de velocidade em malha fechada pode ser obtido usando um tacômetro para gerar uma tensão proporcional à velocidade. Essa tensão é subtraída da tensão do potenciômetro e amplificada. A função de transferência em malha fechada é:\n",
        "\n",
        "<br>\n",
        "\n",
        "$$\\frac{v(s)}{R(s)} = \\frac{K_a G(s)}{1 + K_a K_t G(s)} = \\frac{\\frac{K_a K_1}{\\tau_1}}{s + \\frac{1 + K_a K_t K_1}{\\tau_1}}$$\n",
        "\n",
        "<br>\n",
        "\n",
        "O ganho do amplificador $K_a$ pode ser ajustado para atender às especificações de resposta transitória. A constante de ganho do tacômetro $K_t$ também pode ser variada, se necessário."
      ],
      "metadata": {
        "id": "Q6KXuhS8mTsJ"
      }
    },
    {
      "cell_type": "markdown",
      "source": [
        "**Resposta Transitória em Malha Fechada**\n",
        "\n",
        "A resposta transitória a uma mudança de degrau no comando de entrada é:\n",
        "\n",
        "$$v(t) = \\frac{K_a K_1}{1 + K_a K_t K_1}\\cdot k_2 E \\left(1 - e^{-pt}\\right)$$"
      ],
      "metadata": {
        "id": "8GXnNp2XmYIE"
      }
    },
    {
      "cell_type": "markdown",
      "source": [
        "###4.6 Erro de Estado Estacionário"
      ],
      "metadata": {
        "id": "dKBnVWFYrLWf"
      }
    },
    {
      "cell_type": "markdown",
      "source": [
        "**Introdução**\n",
        "\n",
        "Um sistema de controle por feedback permite ajustar a resposta transitória e reduzir a sensibilidade do sistema e o efeito de perturbações. No entanto, é importante comparar o erro em regime permanente entre sistemas de malha aberta e malha fechada."
      ],
      "metadata": {
        "id": "3nB-InbJrNCE"
      }
    },
    {
      "cell_type": "markdown",
      "source": [
        "**Erro em Regime Permanente**\n",
        "\n",
        "O erro em regime permanente é o erro após a resposta transitória ter decaído, restando apenas a resposta contínua. Para calcular o erro em regime permanente, utilizamos o teorema do valor final:\n",
        "\n",
        "$$\\lim_{t \\to \\infty} e(t) = \\lim_{s \\to 0} sE(s)$$\n",
        "\n",
        "<br>\n",
        "\n",
        "Para um sistema de malha aberta, o erro em regime permanente é:\n",
        "\n",
        "$$e_o(\\infty) = 1 - G_c(0)G(0)$$\n",
        "\n",
        "<br>\n",
        "\n",
        "Para um sistema de malha fechada, o erro em regime permanente é:\n",
        "\n",
        "$$e_c(\\infty) = \\frac{1}{1 + G_c(0)G(0)}$$"
      ],
      "metadata": {
        "id": "xdO-iqUlrQ8n"
      }
    },
    {
      "cell_type": "markdown",
      "source": [
        "**Vantagens do Sistema de Malha Fechada**\n",
        "\n",
        "Um sistema de malha fechada reduz o erro em regime permanente resultante de mudanças nos parâmetros e erros de calibração. Mesmo que os parâmetros do processo mudem, o sistema de malha fechada monitora continuamente o erro e ajusta o sinal de atuação para reduzir o erro em regime permanente."
      ],
      "metadata": {
        "id": "AZrQaWchrTmD"
      }
    },
    {
      "cell_type": "markdown",
      "source": [
        "###4.7 O Custo do Feedback"
      ],
      "metadata": {
        "id": "6W-cz2O8radk"
      }
    },
    {
      "cell_type": "markdown",
      "source": [
        "Embora o controle por feedback ofereça várias vantagens, ele também tem custos associados.\n",
        "\n",
        "**Custos do Feedback**\n",
        "\n",
        "1.   **Complexidade e Custo dos Componentes:** A adição de feedback aumenta o número de componentes e a complexidade do sistema. O sensor, em particular, pode ser caro e introduzir ruído no sistema.\n",
        "\n",
        "2.   **Perda de Ganho:** O ganho de malha é reduzido em um sistema de feedback negativo unitário, o que diminui a sensibilidade do sistema a variações de parâmetros e perturbações.\n",
        "\n",
        "3.   **Possibilidade de Instabilidade:** A adição de feedback pode introduzir a possibilidade de instabilidade, mesmo que o sistema de malha aberta seja estável."
      ],
      "metadata": {
        "id": "oJYGXAazre_B"
      }
    },
    {
      "cell_type": "markdown",
      "source": [
        "Ao projetar um sistema de controle, é necessário considerar a complexidade adicional e o problema da estabilidade. O feedback é desejável na maioria dos casos, mas deve ser implementado com cuidado"
      ],
      "metadata": {
        "id": "s_4Ay6bmrha3"
      }
    },
    {
      "cell_type": "markdown",
      "source": [
        "###4.8 Exemplos de Projeto"
      ],
      "metadata": {
        "id": "OEc2Yk9Kssk7"
      }
    },
    {
      "cell_type": "markdown",
      "source": [
        "**Exemplo 4.2: Máquinas de Perfuração do Canal da Mancha**"
      ],
      "metadata": {
        "id": "OXM4aDvqsyzp"
      }
    },
    {
      "cell_type": "markdown",
      "source": [
        "**Contexto**\n",
        "\n",
        "O túnel sob o Canal da Mancha conecta a França à Grã-Bretanha, com 37,9 km de extensão e 75 metros abaixo do nível do mar em seu ponto mais baixo. As máquinas de perfuração, operando de ambos os lados do canal, utilizavam um sistema de orientação a laser para manter o alinhamento preciso."
      ],
      "metadata": {
        "id": "p8GF_LIys1ca"
      }
    },
    {
      "cell_type": "markdown",
      "source": [
        "**Objetivo do Projeto**\n",
        "\n",
        "Selecionar o ganho $K$ para que a resposta a mudanças no ângulo de entrada seja desejável, minimizando o erro devido à perturbação."
      ],
      "metadata": {
        "id": "MtoJI52-s3ce"
      }
    },
    {
      "cell_type": "markdown",
      "source": [
        "**Modelo do Sistema**\n",
        "\n",
        "A saída devido às duas entradas é:\n",
        "\n",
        "$$Y(s) = \\frac{K}{s^2 + 12s + K} R(s) + \\frac{1}{s^2 + 12s + K} T_d(s)$$\n",
        "\n",
        "<br>\n",
        "\n",
        "Para reduzir o efeito da perturbação, o ganho $K$ deve ser maior que 10. Com $K = 100$, a resposta ao degrau unitário e à perturbação é mostrada na Figura 4.15. Com $K = 20$, as respostas são mostradas na Figura 4.16."
      ],
      "metadata": {
        "id": "sKSY8u1ss3-D"
      }
    },
    {
      "cell_type": "markdown",
      "source": [
        "![image.png](data:image/png;base64,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)"
      ],
      "metadata": {
        "id": "yTum94A1s6Js"
      }
    },
    {
      "cell_type": "markdown",
      "source": [
        "**Sensibilidade do Sistema**\n",
        "\n",
        "\n",
        "A sensibilidade do sistema a uma mudança no processo $G(s)$ é:\n",
        "\n",
        "$$S_{T}^{G} = \\frac{s(s + 12)}{s(s + 12) + K}$$\n",
        "\n",
        "<br>\n",
        "\n",
        "Para baixas frequências, a sensibilidade pode ser aproximada por:\n",
        "\n",
        "$$S_{T}^{G} \\approx \\frac{s}{K}$$\n",
        "\n",
        "<br>\n",
        "\n",
        "A sensibilidade do sistema é reduzida aumentando o ganho $K$. Neste caso, $K=20$ é um compromisso razoável."
      ],
      "metadata": {
        "id": "vQoKYbPstCy1"
      }
    },
    {
      "cell_type": "markdown",
      "source": [
        "###4.9 Características do Sistema de Controle Usando Software de Projeto de Controle"
      ],
      "metadata": {
        "id": "tJe3pMY6tMmO"
      }
    },
    {
      "cell_type": "markdown",
      "source": [
        "**Introdução**\n",
        "\n",
        "Neste subcapítulo, as vantagens do feedback são ilustradas com dois exemplos. O primeiro exemplo introduz o controle por feedback em um sistema de tacômetro de velocidade para rejeitar perturbações. O segundo exemplo demonstra a redução da sensibilidade do sistema a variações de processo, ajuste da resposta transitória e redução do erro em regime permanente usando o exemplo das máquinas de perfuração do Canal da Mancha."
      ],
      "metadata": {
        "id": "yrFShcwGtNnK"
      }
    },
    {
      "cell_type": "markdown",
      "source": [
        "**Exemplo 4.4: Sistema de Controle de Velocidade**\n",
        "\n",
        "*   **Sistema em Malha Aberta:** A função de transferência do sistema em malha\n",
        "aberta é $\\frac{v(s)}{T_d(s)} = -\\frac{1}{2s + 1.5}.$\n",
        "A resposta ao degrau unitário de perturbação mostra um erro em regime permanente significativo.\n",
        "\n",
        "<br>\n",
        "\n",
        "*   **Sistema em Malha Fechada:** A função de transferência do sistema em malha fechada é $\\frac{v(s)}{T_d(s)} = -\\frac{1}{2s + 54.5}.$\n",
        "A resposta ao degrau unitário de perturbação mostra uma melhoria significativa na rejeição de perturbações, com um erro em regime permanente muito menor."
      ],
      "metadata": {
        "id": "RzCfRGkMtQmg"
      }
    },
    {
      "cell_type": "markdown",
      "source": [
        "**Exemplo 4.5: Máquinas de Perfuração do Canal da Mancha**\n",
        "\n",
        "*   **Função de Transferência:** A função de transferência do sistema é\n",
        "$Y(s) = \\frac{K}{s^2 + 12s + K} R(s) + \\frac{1}{s^2 + 12s + K} T_d(s).$\n",
        "\n",
        "<br>\n",
        "\n",
        "*   **Análise da Resposta Transitória:** Aumentar o ganho $K$ reduz o overshoot, mas aumenta o tempo de acomodação. A escolha final do ganho $K$ deve equilibrar a rejeição de perturbações e a performance do sistema."
      ],
      "metadata": {
        "id": "MS79LFr2tTlb"
      }
    },
    {
      "cell_type": "markdown",
      "source": [
        "###4.10 - Exemplo de Projeto Sequencial: Sistema de Leitura de Disco Rígido"
      ],
      "metadata": {
        "id": "mcAuSdj6tWv9"
      }
    },
    {
      "cell_type": "markdown",
      "source": [
        "**Introdução**\n",
        "\n",
        "O projeto de um sistema de disco rígido envolve compromissos e otimizações. O sistema deve posicionar com precisão a cabeça de leitura, reduzindo os efeitos de mudanças de parâmetros e choques externos"
      ],
      "metadata": {
        "id": "jQfWHxaUtZIf"
      }
    },
    {
      "cell_type": "markdown",
      "source": [
        "**Configuração do Sistema**\n",
        "\n",
        "\n",
        "*   **Sistema em Malha Fechada:** O sistema usa um amplificador com ganho variável como controlador. As funções de transferência são $G_1(s) = \\frac{5000}{s(s + 1000)}$ e $G_2(s) = \\frac{1}{s(s + 20)}$."
      ],
      "metadata": {
        "id": "KKbLM0Sjtc6g"
      }
    },
    {
      "cell_type": "markdown",
      "source": [
        "**Análise de Erros em Regime Permanente**\n",
        "\n",
        "\n",
        "*   Erro em Regime Permanente: Para uma entrada de degrau unitário, o erro em regime permanente é zero, independentemente das mudanças nos parâmetros do sistema."
      ],
      "metadata": {
        "id": "cVkhwJZgte1b"
      }
    },
    {
      "cell_type": "markdown",
      "source": [
        "**Análise da Resposta Transitória**\n",
        "\n",
        "\n",
        "*   **Função de Transferência em Malha Fechada:** A função de transferência é $T(s) = \\frac{5000K_a}{s^3 + 1020s^2 + 20000s + 5000K_a}$. Aumentar $K_a$ acelera a resposta do sistema, mas pode torná-la oscilatória.\n"
      ],
      "metadata": {
        "id": "btm0572ttgvS"
      }
    },
    {
      "cell_type": "markdown",
      "source": [
        "**Resposta a Perturbações**\n",
        "\n",
        "\n",
        "*   **Função de Transferência da Perturbação:** A função de transferência é $Y(s) = \\frac{G_2(s)}{1 + K_a G_1(s) G_2(s)} T_d(s).$ Aumentar $K_a$ reduz o efeito da perturbação, mas pode causar oscilações indesejadas."
      ],
      "metadata": {
        "id": "sAoXsM2utjVE"
      }
    }
  ]
}