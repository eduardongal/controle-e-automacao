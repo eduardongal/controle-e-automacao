{
  "nbformat": 4,
  "nbformat_minor": 0,
  "metadata": {
    "colab": {
      "provenance": []
    },
    "kernelspec": {
      "name": "python3",
      "display_name": "Python 3"
    },
    "language_info": {
      "name": "python"
    }
  },
  "cells": [
    {
      "cell_type": "markdown",
      "source": [
        "## Capítulo 13: Sistemas de Controle Digital"
      ],
      "metadata": {
        "id": "K8o0o1bRDzkn"
      }
    },
    {
      "cell_type": "markdown",
      "source": [
        "###13.1 Introdução\n",
        "\n",
        "O uso de computadores digitais como dispositivos compensadores (controladores) tem crescido significativamente, impulsionado pela redução de custos e pelo aumento da confiabilidade desses sistemas. Em um sistema de controle digital de malha fechada, o computador recebe o sinal de erro em formato digital, realiza cálculos e fornece uma saída também digital. Esse processo permite que o computador seja programado para ajustar o desempenho do sistema, aproximando-o ou igualando-o ao desempenho desejado. Além disso, muitos computadores digitais são capazes de processar múltiplas entradas simultaneamente, o que os torna ideais para sistemas de controle multivariáveis.\n",
        "\n",
        "Um sistema de controle digital opera com sinais digitais (numéricos), em contraste com os sistemas analógicos, que trabalham com sinais contínuos. O processo de controle digital envolve a conversão dos dados de medição de analógico para digital por meio de um conversor analógico-digital (ADC). Após o processamento pelo computador, a saída digital é convertida de volta para o formato analógico por um conversor digital-analógico (DAC), permitindo a atuação no processo controlado."
      ],
      "metadata": {
        "id": "tHMmGYDyD-cO"
      }
    },
    {
      "cell_type": "markdown",
      "source": [
        "### 13.2 Aplicações de Sistemas de Controle em Computadores Digitais\n",
        "\n",
        "Os computadores digitais são compostos por uma **unidade central de processamento (CPU)**, unidades de entrada e saída, e memória. Com o avanço da tecnologia, tornaram-se menores, mais poderosos e acessíveis. **Microcomputadores**, que usam microprocessadores como CPU, são amplamente utilizados. A escolha do computador depende da tarefa de controle, da quantidade de dados armazenados e da velocidade de processamento necessária.\n",
        "\n",
        "A evolução dos computadores segue a **Lei de Moore**, com a densidade de transistores dobrando a cada ano, resultando em dispositivos menores, mais rápidos e eficientes. Isso revolucionou a aplicação da teoria de controle, permitindo sistemas digitais em diversas áreas, como:\n",
        "- **Indústria**: Ferramentas de máquinas, metalurgia, processos químicos e biomédicos.\n",
        "- **Transporte**: Controle de aeronaves (ex.: Boeing 787 Dreamliner) e tráfego de automóveis.\n",
        "\n",
        "**Vantagens do Controle Digital:**\n",
        "1. **Maior sensibilidade**: Sensores e transdutores digitais medem e transmitem sinais com eficiência.\n",
        "2. **Imunidade a ruídos**: Sinais digitais são menos suscetíveis a interferências.\n",
        "3. **Flexibilidade**: Algoritmos de controle podem ser reconfigurados facilmente via software.\n",
        "4. **Eficiência energética**: Sensores digitais operam com sinais de baixa energia.\n",
        "\n",
        "Essa combinação de avanços tecnológicos e vantagens práticas tornou os sistemas de controle digital essenciais em aplicações modernas."
      ],
      "metadata": {
        "id": "ss1sZWewEBSv"
      }
    },
    {
      "cell_type": "markdown",
      "source": [
        "### 13.3 Sistemas de Dados Amostrados\n",
        "\n",
        "Um sistema de dados amostrados é um sistema onde parte dele opera com dados amostrados, em contraste com sinais contínuos. Esses sistemas são cruciais em controle digital, onde os computadores são usados para executar algoritmos de controle. Nos sistemas de dados amostrados, a amostragem é realizada em intervalos fixos $T$, chamado período de amostragem. Assim, o sinal de entrada $r(t)$ é amostrado e transformado em uma sequência de valores discretos $r(kT)$, onde $k$ é um número inteiro.\n",
        "\n",
        "Um exemplo típico de sistema de controle digital inclui um conversor analógico-digital para converter sinais contínuos em discretos, um computador digital para processar os dados, e um conversor digital-analógico para transformar os sinais de volta para forma contínua.\n",
        "\n",
        "Os dados amostrados são representados por uma série de impulsos. Por exemplo, um sinal $r(t)$ amostrado gera $r^*(t)$, que é uma série de impulsos espaçados em $T$ segundos. Para converter o sinal amostrado $r^*(t)$ em um sinal contínuo $p(t)$, utilizamos um circuito de retenção de ordem zero. Este circuito mantém o valor $r(kT)$ constante durante o período de amostragem, até que um novo valor seja amostrado. Se $T$ é pequeno em comparação com as mudanças transitórias do sinal, o circuito de retenção pode seguir o sinal de entrada com precisão."
      ],
      "metadata": {
        "id": "4BFKWEtdEGIa"
      }
    },
    {
      "cell_type": "markdown",
      "source": [
        "### 13.4 A Transformada Z\n",
        "\n",
        "A precisão do computador digital e dos conversores de sinal associados é limitada. A precisão é o grau de exatidão ou discriminação com que uma quantidade é declarada. A precisão do computador é limitada pelo comprimento finito da palavra. A precisão do conversor analógico-digital é limitada pela capacidade de armazenar sua saída apenas em lógica digital composta por um número finito de dígitos binários. O sinal convertido $m(kT)$ é então dito incluir um erro de quantização de amplitude. Quando o erro de quantização e o erro devido ao tamanho finito da palavra do computador são pequenos em relação à amplitude do sinal, o sistema é suficientemente preciso, e as limitações de precisão podem ser negligenciadas.\n",
        "\n",
        "A saída do amostrador ideal, $r^*(t)$, é uma série de impulsos com valores $r(kT)$. Usando a transformada de Laplace, obtemos uma série infinita que envolve múltiplos de $e^{sT}$ e seus poderes. Definimos $z = e^{sT}$, onde essa relação envolve um mapeamento conforme do plano $s$ para o plano $z$. Definimos a nova transformada, chamada de transformada $z$, como:\n",
        "\n",
        "$$Z\\{r(t)\\} = Z\\{r^*(t)\\} = \\sum_{k=0}^{\\infty} r(kT) z^{-k}$$"
      ],
      "metadata": {
        "id": "cFWH1kI_ENeY"
      }
    },
    {
      "cell_type": "markdown",
      "source": [
        "### 13.5 Sistemas de Dados Amostrados de Feedback em Malha Fechada\n",
        "\n",
        "Nesta seção, consideramos sistemas de controle por dados amostrados em malha fechada. A saída amostrada, $Y(z)$, é utilizada para criar um sistema de controle de feedback. A função de transferência de malha fechada pode ser representada utilizando a transformada z. O sistema de controle por feedback em malha fechada é formado por um controlador digital e um processo, ambos representados no domínio z.\n",
        "\n",
        "**Equação de Transferência de Malha Fechada**\n",
        "\n",
        "A função de transferência em malha fechada é:\n",
        "\n",
        "$$ T(z) = \\frac{G(z)}{1 + G(z)} $$\n",
        "\n",
        "onde $G(z)$ é a função de transferência do processo e do controlador digital.\n",
        "\n",
        "**Exemplo de Resposta de Sistema em Malha Fechada**\n",
        "\n",
        "Considere um sistema de segunda ordem com a seguinte função de transferência no domínio z:\n",
        "\n",
        "$$ G(z) = \\frac{0.3678z + 0.2644}{z^2 - z + 0.6322} $$\n",
        "\n",
        "A resposta da função de transferência em malha fechada é calculada para uma entrada de degrau unitário $R(z) = \\frac{z}{z - 1}$:\n",
        "\n",
        "$$ Y(z) = \\frac{0.3678z^2 + 0.2644z}{(z - 1)(z^2 - z + 0.6322)} $$\n",
        "\n",
        "Podemos dividir o numerador pelo denominador para obter:\n",
        "\n",
        "$$ Y(z) = 0.3678z^{-1} + 0.2644z^{-2} + 1.4z^{-3} + 1.4z^{-4} + 1.147z^{-5} $$\n",
        "\n",
        "**Análise de Estabilidade**\n",
        "\n",
        "A estabilidade do sistema amostrado depende da localização dos polos da função de transferência em malha fechada. Se todos os polos estiverem dentro do círculo unitário no plano z, o sistema é estável. Caso contrário, o sistema é instável."
      ],
      "metadata": {
        "id": "XTl7orOHET0g"
      }
    },
    {
      "cell_type": "markdown",
      "source": [
        "### 13.6 Desempenho de um Sistema de Segunda Ordem com Dados Amostrados\n",
        "\n",
        "Consideremos o desempenho de um sistema de segunda ordem com dados amostrados e retenção de ordem zero. Quando o processo é $ G_p(s) = \\frac{K}{s(Ts + 1)} $, obtemos $ G(z) $ para o período de amostragem $ T $ como:\n",
        "\n",
        "$$ G(z) = \\frac{K[(z - E)(T - T(z - 1)) + T(z - 1)^2]}{(z - 1)(z - E)} $$\n",
        "\n",
        "onde $ E = e^{-T/T} $. A estabilidade do sistema é analisada considerando a equação característica:\n",
        "\n",
        "$$ q(z) = z^2 + z\\{K[T - T(1 - E)] - (1 + E)\\} + K[T(1 - E) - TE] + E = 0 $$\n",
        "\n",
        "Para um sistema de segunda ordem, as condições necessárias e suficientes para que todas as raízes de $ q(z) $ estejam dentro do círculo unitário são $ |q(0)| < 1 $, $ q(1) > 0 $ e $ q(-1) > 0 $. Utilizando essas condições, estabelecemos as condições necessárias a partir da equação acima.\n",
        "\n",
        "**Exemplo de Projeto de Sistema Amostrado**\n",
        "\n",
        "Consideremos um sistema de segunda ordem com $ G_p(s) = \\frac{K}{s(0.1s + 1)} $. Queremos selecionar $ T $ e $ K $ para obter um desempenho adequado. Usamos as figuras fornecidas no texto para selecionar $ K $ e $ T $.\n"
      ],
      "metadata": {
        "id": "vKSwu5llEW7z"
      }
    },
    {
      "cell_type": "markdown",
      "source": [
        "### 13.7 Sistemas de Malha Fechada com Compensação por Computador Digital\n",
        "\n",
        "Neste subcapítulo, exploramos o uso de um sistema amostrado em malha fechada com um computador digital como compensador para melhorar o desempenho do sistema. O objetivo é demonstrar como um computador digital pode ser utilizado para realizar a compensação e otimizar a resposta do sistema.\n",
        "\n",
        "A função de transferência em malha fechada do sistema é dada por:\n",
        "\n",
        "$$ T(z) = \\frac{G(z)D(z)}{1 + G(z)D(z)} $$\n",
        "\n",
        "onde $G(z)$ é a função de transferência do processo e $D(z)$ é a função de transferência do computador digital (compensador).\n",
        "\n",
        "#### Exemplo: Projeto de Sistema Amostrado com Compensador Digital\n",
        "\n",
        "Vamos considerar um sistema de segunda ordem com um compensador digital para melhorar o desempenho. O processo é representado pela função de transferência $ G_p(s) = \\frac{1}{s(s + 1)} $ com retenção de ordem zero e $ T = 1 $:\n",
        "\n",
        "$$ G(z) = \\frac{0.3678(z + 0.7189)}{(z - 1)(z - 0.3678)} $$\n",
        "\n",
        "Para cancelar o polo em $ z = 0.3678 $ e definir dois parâmetros $ r $ e $ K $, selecionamos o compensador digital:\n",
        "\n",
        "$$ D(z) = \\frac{1.359(z - 0.3678)}{z + 0.240} $$\n",
        "\n",
        "A função de transferência em malha fechada do sistema compensado é então:\n",
        "\n",
        "$$ T(z) = \\frac{0.50(z + 0.7189)}{(z - 1)(z + 0.240)} $$"
      ],
      "metadata": {
        "id": "HXb5MrXQEZiL"
      }
    },
    {
      "cell_type": "markdown",
      "source": [
        "### 13.8 O Lugar das Raízes de Sistemas de Controle Digital\n",
        "\n",
        "Neste subcapítulo, abordamos o conceito de lugar das raízes aplicado a sistemas de controle digital. Consideramos a função de transferência do sistema conforme mostrado na Figura 13.24 do livro. A função de transferência em malha fechada é dada por:\n",
        "\n",
        "$$ \\frac{Y(z)}{R(z)} = \\frac{KG(z)D(z)}{1 + KG(z)D(z)} $$\n",
        "\n",
        "A equação característica do sistema é:\n",
        "\n",
        "$$ 1 + KG(z)D(z) = 0 $$\n",
        "\n",
        "Podemos plotar o lugar das raízes para a equação característica do sistema amostrado conforme K varia. As regras para obter o lugar das raízes são resumidas na Tabela 13.4.\n"
      ],
      "metadata": {
        "id": "VlqtUTFxEe0x"
      }
    },
    {
      "cell_type": "markdown",
      "source": [
        "**Exemplo 13.8: Lugar das Raízes de um Sistema de Segunda Ordem**\n",
        "\n",
        "Considere o sistema mostrado na Figura 13.24 com $ D(z) = 1 $ e $ G_p(s) = \\frac{1}{s^2} $. Obtemos:\n",
        "\n",
        "$$ KG(z) = K \\left( \\frac{z + 1}{(z - 1)^2} \\right) $$\n",
        "\n",
        "Os polos e zeros são mostrados no plano z na Figura 13.25. A equação característica é:\n",
        "\n",
        "$$ 1 + \\frac{K(z + 1)}{(z - 1)^2} = 0 $$\n",
        "\n",
        "Resolvendo para K:\n",
        "\n",
        "$$ K = \\frac{(z - 1)^2}{z + 1} $$\n",
        "\n",
        "Calculando os pontos de entrada e saída do lugar das raízes, obtemos os valores $ z_1 = -3 $ e $ z_2 = 1 $. O sistema tem dois polos fora do círculo unitário e é instável para qualquer valor de K maior que zero.\n"
      ],
      "metadata": {
        "id": "4vJST6AUEmXg"
      }
    },
    {
      "cell_type": "markdown",
      "source": [
        "**Exemplo 13.9: Projeto de um Compensador Digital**\n",
        "\n",
        "Projetamos um compensador $ D(z) $ que resulta em um sistema estável. Com $ D(z) = 1 $, o sistema é instável. Selecionamos $ D(z) = \\frac{z - a}{z - b} $, onde definimos $ a = 1 $ e $ b = 0.2 $:\n",
        "\n",
        "$$ KG(z)D(z) = \\frac{K(z + 1)}{(z - 1)(z - 0.2)} $$\n",
        "\n",
        "O lugar das raízes é mostrado na Figura 13.26. O sistema é estável para $ K < 0.8 $. Selecionando $ K = 0.25 $, a resposta ao degrau tem um overshoot de 20% e um tempo de acomodação de 8.5 segundos."
      ],
      "metadata": {
        "id": "M8yVy3biEncU"
      }
    },
    {
      "cell_type": "markdown",
      "source": [
        "### 13.9 Implementação de Controladores Digitais\n",
        "\n",
        "Neste subcapítulo, abordamos a implementação de controladores digitais, como o controlador PID, utilizando aproximações discretas para a derivada e a integração. A função de transferência no domínio s do controlador PID é:\n",
        "\n",
        "$$ U(s) / X(s) = K_p + K_i / s + K_d s $$\n",
        "\n",
        "Para a derivada temporal, utilizamos a regra da diferença para trás:\n",
        "\n",
        "$$ \\dot{x}(kT) \\approx \\frac{x(kT) - x((k-1)T)}{T} $$\n",
        "\n",
        "A transformada z de tal aproximação é:\n",
        "\n",
        "$$ X(z) = \\frac{z - 1}{Tz} x(z) $$\n",
        "\n",
        "Para a integração, utilizamos a integração retangular para frente:\n",
        "\n",
        "$$ u(kT) = u((k-1)T) + Tx(kT) $$\n",
        "\n",
        "A transformada z de tal aproximação é:\n",
        "\n",
        "$$ U(z) = \\frac{Tz}{z - 1} X(z) $$\n",
        "\n",
        "Logo, a função de transferência no domínio z do controlador PID é:\n",
        "\n",
        "$$ G_c(z) = K_p + \\frac{K_i Tz}{z - 1} + \\frac{K_d (z - 1)}{Tz} $$\n",
        "\n",
        "A equação completa do PID digital é:\n",
        "\n",
        "$$ u(k) = K_p x(k) + K_i [u(k-1) + Tx(k)] + \\frac{K_d}{T} [x(k) - x(k-1)] $$\n",
        "\n",
        "onde substituímos $ x(kT) = x(k) $.\n",
        "\n",
        "\n"
      ],
      "metadata": {
        "id": "7_f-G7wJEsR6"
      }
    },
    {
      "cell_type": "markdown",
      "source": [
        "\n",
        "**Exemplo 13.11: Superfície de Controle Fly-by-Wire**\n",
        "\n",
        "O sistema de controle de superfície fly-by-wire utiliza um motor DC para acionar uma bomba hidráulica conectada a um cilindro hidráulico. O pistão do cilindro está diretamente conectado a uma superfície de controle da aeronave. O objetivo é projetar um compensador digital $ D(z) $ que permita à superfície de controle acompanhar o ângulo desejado.\n",
        "\n",
        "1. **Modelo do Processo**:\n",
        "\n",
        "A função de transferência do processo é dada por:\n",
        "\n",
        "$$ G_p(s) = \\frac{1}{s(s+1)} $$\n",
        "\n",
        "O modelo de retenção de ordem zero é:\n",
        "\n",
        "$$ G_{oh}(s) = \\frac{1 - e^{-Ts}}{s} $$\n",
        "\n",
        "Combinação do processo e do modelo de retenção:\n",
        "\n",
        "$$ G(s) = \\frac{1 - e^{-Ts}}{s^2(s+1)} $$\n",
        "\n",
        "2. **Conversão para o Domínio Z**:\n",
        "\n",
        "Escolhemos $ T = 0.1 \\, s $ e obtemos $ G(z) $.\n",
        "\n",
        "<br>\n",
        "\n",
        "A resposta do sistema digital de controle de superfície fly-by-wire atende às especificações de projeto, com percentual de sobresinal $ \\leq 5% $ e tempo de acomodação $ \\leq 1 \\, s $."
      ],
      "metadata": {
        "id": "ZbJtaxh3E9tL"
      }
    }
  ]
}